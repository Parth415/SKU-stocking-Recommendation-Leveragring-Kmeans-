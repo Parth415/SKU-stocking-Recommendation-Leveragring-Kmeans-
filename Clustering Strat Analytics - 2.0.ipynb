{
 "cells": [
  {
   "cell_type": "code",
   "execution_count": 1,
   "id": "a2f0f9d2",
   "metadata": {},
   "outputs": [],
   "source": [
    "#Importing basic packages\n",
    "import os\n",
    "import warnings\n",
    "import requests\n",
    "import numpy as np\n",
    "import pandas as pd\n",
    "import pandas as pd\n",
    "import calendar\n",
    "import datetime\n",
    "\n",
    "#Visualisations Libraries\n",
    "import matplotlib.pyplot as plt\n",
    "import plotly.express as px \n",
    "import squarify \n",
    "import seaborn as sns \n",
    "from pprint import pprint as pp \n",
    "from plotly.subplots import make_subplots \n",
    "import plotly.graph_objects as go\n",
    "from Levenshtein import distance\n",
    "\n",
    "### Data Standardization and Modeling with K-Means and PCA\n",
    "from sklearn.preprocessing import StandardScaler\n",
    "from sklearn.cluster import KMeans\n",
    "from sklearn.decomposition import PCA\n",
    "from sklearn.cluster import KMeans\n",
    "from yellowbrick.cluster import SilhouetteVisualizer"
   ]
  },
  {
   "cell_type": "code",
   "execution_count": 2,
   "id": "4e32d8cf",
   "metadata": {},
   "outputs": [
    {
     "data": {
      "text/html": [
       "<style>.container { width:100% !important; }</style>"
      ],
      "text/plain": [
       "<IPython.core.display.HTML object>"
      ]
     },
     "metadata": {},
     "output_type": "display_data"
    }
   ],
   "source": [
    "# !/usr/bin/env/ python\n",
    "from IPython.display import display, HTML\n",
    "display(HTML(\"<style>.container { width:100% !important; }</style>\"))\n",
    "import urllib\n",
    "import pyodbc\n",
    "\n",
    "# import tqdm as tqdm\n",
    "import snowflake.connector\n",
    "from sqlalchemy import create_engine\n",
    "from snowflake.sqlalchemy import URL\n",
    "import pandas as pd\n",
    "import numpy as n\n",
    "import os\n",
    "import json\n",
    "from datetime import date  "
   ]
  },
  {
   "cell_type": "code",
   "execution_count": 3,
   "id": "9040b745",
   "metadata": {},
   "outputs": [
    {
     "name": "stdout",
     "output_type": "stream",
     "text": [
      "Initiating login request with your identity provider. A browser window should have opened for you to complete the login. If you can't see it, check existing browser windows, or your OS settings. Press CTRL+C to abort and try again...\n"
     ]
    }
   ],
   "source": [
    "# SQL and snow flake connection\n",
    "os.chdir(\"C:\\\\Users\\\\prapa001\\\\OneDrive - Corporate\\\\Desktop\\\\python_trials\") \n",
    "\n",
    "credentials= json.load(open(\"credentials.json\"))\n",
    "\n",
    "cnxn_str = (\"Driver={ODBC Driver 17 for SQL Server};\"\n",
    "            \"Server=WINMPNDBp02;\"\n",
    "            \"Database=ANALYSIS_PROJECTS;\"\n",
    "            \"UID=\"+credentials['SQL']['user'] + \";\" \n",
    "            +\"pwd=\" + credentials['SQL']['password'] +\";\" +\n",
    "            \"Trusted_Connection=Yes;\"\n",
    "           ) \n",
    "sql_connection = pyodbc.connect(cnxn_str)\n",
    "\n",
    "sf_connection = snowflake.connector.connect( \n",
    "    user =credentials['SF']['user'], \n",
    "    password=credentials['SF']['password'] ,\n",
    "    role='SF_SCM_ANALYTICS_DBRL',\n",
    "    account='staples.east-us-2.azure', \n",
    "    warehouse='CAP_PRD_SC_WH',\n",
    "    database='DATALAB_SANDBOX',\n",
    "    schema='SCM_ANALYTICS',\n",
    "    authenticator='externalbrowser' \n",
    "    ) \n",
    "\n",
    "engine = create_engine(URL(\n",
    "    user =credentials['SF']['user'], \n",
    "    password=credentials['SF']['password'],\n",
    "    role='SF_SCM_ANALYTICS_DBRL',\n",
    "    account='staples.east-us-2.azure', \n",
    "    warehouse='CAP_PRD_SC_WH',\n",
    "    database='DATALAB_SANDBOX',\n",
    "    schema='SCM_ANALYTICS',\n",
    "    authenticator='externalbrowser' \n",
    ")) "
   ]
  },
  {
   "cell_type": "code",
   "execution_count": 4,
   "id": "3ebb12b0",
   "metadata": {},
   "outputs": [
    {
     "name": "stderr",
     "output_type": "stream",
     "text": [
      "C:\\Users\\prapa001\\AppData\\Local\\Temp\\1\\ipykernel_33572\\3013709443.py:8: UserWarning: pandas only supports SQLAlchemy connectable (engine/connection) or database string URI or sqlite3 DBAPI2 connection. Other DBAPI2 objects are not tested. Please consider using SQLAlchemy.\n",
      "  Active_SKU_FC_01 =  pd.read_sql(Active_SKU_FC,sql_connection)\n"
     ]
    }
   ],
   "source": [
    "Active_SKU_FC = '''SELECT FC_Number, \n",
    "       FC_Name, \n",
    "       COUNT(DISTINCT Staples_SKU) AS Count_of_SKUs,\n",
    "       COUNT(DISTINCT CASE WHEN PURCHASE_STATUS = 'A' THEN STAPLES_SKU ELSE '0' END) AS Active_Staples_SKU  \n",
    "FROM LINKED.SCCDATA.FC_MASTER_V    \n",
    "GROUP BY FC_Number, FC_Name'''\n",
    " # SKU Level DF\n",
    "Active_SKU_FC_01 =  pd.read_sql(Active_SKU_FC,sql_connection)"
   ]
  },
  {
   "cell_type": "code",
   "execution_count": 13,
   "id": "be122afa",
   "metadata": {},
   "outputs": [
    {
     "data": {
      "application/vnd.plotly.v1+json": {
       "config": {
        "plotlyServerURL": "https://plot.ly"
       },
       "data": [
        {
         "alignmentgroup": "True",
         "hovertemplate": "FC_Name=%{x}<br>Active_Staples_SKU=%{text}<extra></extra>",
         "legendgroup": "FC: LONDON, OH",
         "marker": {
          "color": "#636efa",
          "pattern": {
           "shape": ""
          }
         },
         "name": "FC: LONDON, OH",
         "offsetgroup": "FC: LONDON, OH",
         "orientation": "v",
         "showlegend": true,
         "text": [
          23527
         ],
         "textposition": "auto",
         "texttemplate": "%{y:.3s}",
         "type": "bar",
         "x": [
          "FC: LONDON, OH"
         ],
         "xaxis": "x",
         "y": [
          23527
         ],
         "yaxis": "y"
        },
        {
         "alignmentgroup": "True",
         "hovertemplate": "FC_Name=%{x}<br>Active_Staples_SKU=%{text}<extra></extra>",
         "legendgroup": "FC: GREENCASTLE, PA",
         "marker": {
          "color": "#EF553B",
          "pattern": {
           "shape": ""
          }
         },
         "name": "FC: GREENCASTLE, PA",
         "offsetgroup": "FC: GREENCASTLE, PA",
         "orientation": "v",
         "showlegend": true,
         "text": [
          20745
         ],
         "textposition": "auto",
         "texttemplate": "%{y:.3s}",
         "type": "bar",
         "x": [
          "FC: GREENCASTLE, PA"
         ],
         "xaxis": "x",
         "y": [
          20745
         ],
         "yaxis": "y"
        },
        {
         "alignmentgroup": "True",
         "hovertemplate": "FC_Name=%{x}<br>Active_Staples_SKU=%{text}<extra></extra>",
         "legendgroup": "FC: ONTARIO, CA",
         "marker": {
          "color": "#00cc96",
          "pattern": {
           "shape": ""
          }
         },
         "name": "FC: ONTARIO, CA",
         "offsetgroup": "FC: ONTARIO, CA",
         "orientation": "v",
         "showlegend": true,
         "text": [
          20443
         ],
         "textposition": "auto",
         "texttemplate": "%{y:.3s}",
         "type": "bar",
         "x": [
          "FC: ONTARIO, CA"
         ],
         "xaxis": "x",
         "y": [
          20443
         ],
         "yaxis": "y"
        },
        {
         "alignmentgroup": "True",
         "hovertemplate": "FC_Name=%{x}<br>Active_Staples_SKU=%{text}<extra></extra>",
         "legendgroup": "FC: DALLAS, TX",
         "marker": {
          "color": "#ab63fa",
          "pattern": {
           "shape": ""
          }
         },
         "name": "FC: DALLAS, TX",
         "offsetgroup": "FC: DALLAS, TX",
         "orientation": "v",
         "showlegend": true,
         "text": [
          20420
         ],
         "textposition": "auto",
         "texttemplate": "%{y:.3s}",
         "type": "bar",
         "x": [
          "FC: DALLAS, TX"
         ],
         "xaxis": "x",
         "y": [
          20420
         ],
         "yaxis": "y"
        },
        {
         "alignmentgroup": "True",
         "hovertemplate": "FC_Name=%{x}<br>Active_Staples_SKU=%{text}<extra></extra>",
         "legendgroup": "FC: MONTGOMERY, NY",
         "marker": {
          "color": "#FFA15A",
          "pattern": {
           "shape": ""
          }
         },
         "name": "FC: MONTGOMERY, NY",
         "offsetgroup": "FC: MONTGOMERY, NY",
         "orientation": "v",
         "showlegend": true,
         "text": [
          19481
         ],
         "textposition": "auto",
         "texttemplate": "%{y:.3s}",
         "type": "bar",
         "x": [
          "FC: MONTGOMERY, NY"
         ],
         "xaxis": "x",
         "y": [
          19481
         ],
         "yaxis": "y"
        },
        {
         "alignmentgroup": "True",
         "hovertemplate": "FC_Name=%{x}<br>Active_Staples_SKU=%{text}<extra></extra>",
         "legendgroup": "FC: BELOIT, WI",
         "marker": {
          "color": "#19d3f3",
          "pattern": {
           "shape": ""
          }
         },
         "name": "FC: BELOIT, WI",
         "offsetgroup": "FC: BELOIT, WI",
         "orientation": "v",
         "showlegend": true,
         "text": [
          19091
         ],
         "textposition": "auto",
         "texttemplate": "%{y:.3s}",
         "type": "bar",
         "x": [
          "FC: BELOIT, WI"
         ],
         "xaxis": "x",
         "y": [
          19091
         ],
         "yaxis": "y"
        },
        {
         "alignmentgroup": "True",
         "hovertemplate": "FC_Name=%{x}<br>Active_Staples_SKU=%{text}<extra></extra>",
         "legendgroup": "FC: NEW ORLANDO, FL",
         "marker": {
          "color": "#FF6692",
          "pattern": {
           "shape": ""
          }
         },
         "name": "FC: NEW ORLANDO, FL",
         "offsetgroup": "FC: NEW ORLANDO, FL",
         "orientation": "v",
         "showlegend": true,
         "text": [
          18941
         ],
         "textposition": "auto",
         "texttemplate": "%{y:.3s}",
         "type": "bar",
         "x": [
          "FC: NEW ORLANDO, FL"
         ],
         "xaxis": "x",
         "y": [
          18941
         ],
         "yaxis": "y"
        },
        {
         "alignmentgroup": "True",
         "hovertemplate": "FC_Name=%{x}<br>Active_Staples_SKU=%{text}<extra></extra>",
         "legendgroup": "FC: STOCKTON, CA",
         "marker": {
          "color": "#B6E880",
          "pattern": {
           "shape": ""
          }
         },
         "name": "FC: STOCKTON, CA",
         "offsetgroup": "FC: STOCKTON, CA",
         "orientation": "v",
         "showlegend": true,
         "text": [
          18592
         ],
         "textposition": "auto",
         "texttemplate": "%{y:.3s}",
         "type": "bar",
         "x": [
          "FC: STOCKTON, CA"
         ],
         "xaxis": "x",
         "y": [
          18592
         ],
         "yaxis": "y"
        },
        {
         "alignmentgroup": "True",
         "hovertemplate": "FC_Name=%{x}<br>Active_Staples_SKU=%{text}<extra></extra>",
         "legendgroup": "FC: ATLANTA, GA",
         "marker": {
          "color": "#FF97FF",
          "pattern": {
           "shape": ""
          }
         },
         "name": "FC: ATLANTA, GA",
         "offsetgroup": "FC: ATLANTA, GA",
         "orientation": "v",
         "showlegend": true,
         "text": [
          18472
         ],
         "textposition": "auto",
         "texttemplate": "%{y:.3s}",
         "type": "bar",
         "x": [
          "FC: ATLANTA, GA"
         ],
         "xaxis": "x",
         "y": [
          18472
         ],
         "yaxis": "y"
        },
        {
         "alignmentgroup": "True",
         "hovertemplate": "FC_Name=%{x}<br>Active_Staples_SKU=%{text}<extra></extra>",
         "legendgroup": "FC: PUTNAM, CT",
         "marker": {
          "color": "#FECB52",
          "pattern": {
           "shape": ""
          }
         },
         "name": "FC: PUTNAM, CT",
         "offsetgroup": "FC: PUTNAM, CT",
         "orientation": "v",
         "showlegend": true,
         "text": [
          17920
         ],
         "textposition": "auto",
         "texttemplate": "%{y:.3s}",
         "type": "bar",
         "x": [
          "FC: PUTNAM, CT"
         ],
         "xaxis": "x",
         "y": [
          17920
         ],
         "yaxis": "y"
        },
        {
         "alignmentgroup": "True",
         "hovertemplate": "FC_Name=%{x}<br>Active_Staples_SKU=%{text}<extra></extra>",
         "legendgroup": "FC: CHARLOTTE, NC",
         "marker": {
          "color": "#636efa",
          "pattern": {
           "shape": ""
          }
         },
         "name": "FC: CHARLOTTE, NC",
         "offsetgroup": "FC: CHARLOTTE, NC",
         "orientation": "v",
         "showlegend": true,
         "text": [
          17767
         ],
         "textposition": "auto",
         "texttemplate": "%{y:.3s}",
         "type": "bar",
         "x": [
          "FC: CHARLOTTE, NC"
         ],
         "xaxis": "x",
         "y": [
          17767
         ],
         "yaxis": "y"
        },
        {
         "alignmentgroup": "True",
         "hovertemplate": "FC_Name=%{x}<br>Active_Staples_SKU=%{text}<extra></extra>",
         "legendgroup": "FC: KANSAS CITY, MO",
         "marker": {
          "color": "#EF553B",
          "pattern": {
           "shape": ""
          }
         },
         "name": "FC: KANSAS CITY, MO",
         "offsetgroup": "FC: KANSAS CITY, MO",
         "orientation": "v",
         "showlegend": true,
         "text": [
          16765
         ],
         "textposition": "auto",
         "texttemplate": "%{y:.3s}",
         "type": "bar",
         "x": [
          "FC: KANSAS CITY, MO"
         ],
         "xaxis": "x",
         "y": [
          16765
         ],
         "yaxis": "y"
        },
        {
         "alignmentgroup": "True",
         "hovertemplate": "FC_Name=%{x}<br>Active_Staples_SKU=%{text}<extra></extra>",
         "legendgroup": "FC: PORTLAND, OR",
         "marker": {
          "color": "#00cc96",
          "pattern": {
           "shape": ""
          }
         },
         "name": "FC: PORTLAND, OR",
         "offsetgroup": "FC: PORTLAND, OR",
         "orientation": "v",
         "showlegend": true,
         "text": [
          15850
         ],
         "textposition": "auto",
         "texttemplate": "%{y:.3s}",
         "type": "bar",
         "x": [
          "FC: PORTLAND, OR"
         ],
         "xaxis": "x",
         "y": [
          15850
         ],
         "yaxis": "y"
        },
        {
         "alignmentgroup": "True",
         "hovertemplate": "FC_Name=%{x}<br>Active_Staples_SKU=%{text}<extra></extra>",
         "legendgroup": "FC: PHOENIX AZ",
         "marker": {
          "color": "#ab63fa",
          "pattern": {
           "shape": ""
          }
         },
         "name": "FC: PHOENIX AZ",
         "offsetgroup": "FC: PHOENIX AZ",
         "orientation": "v",
         "showlegend": true,
         "text": [
          14902
         ],
         "textposition": "auto",
         "texttemplate": "%{y:.3s}",
         "type": "bar",
         "x": [
          "FC: PHOENIX AZ"
         ],
         "xaxis": "x",
         "y": [
          14902
         ],
         "yaxis": "y"
        },
        {
         "alignmentgroup": "True",
         "hovertemplate": "FC_Name=%{x}<br>Active_Staples_SKU=%{text}<extra></extra>",
         "legendgroup": "FC: HOUSTON, TX",
         "marker": {
          "color": "#FFA15A",
          "pattern": {
           "shape": ""
          }
         },
         "name": "FC: HOUSTON, TX",
         "offsetgroup": "FC: HOUSTON, TX",
         "orientation": "v",
         "showlegend": true,
         "text": [
          14387
         ],
         "textposition": "auto",
         "texttemplate": "%{y:.3s}",
         "type": "bar",
         "x": [
          "FC: HOUSTON, TX"
         ],
         "xaxis": "x",
         "y": [
          14387
         ],
         "yaxis": "y"
        },
        {
         "alignmentgroup": "True",
         "hovertemplate": "FC_Name=%{x}<br>Active_Staples_SKU=%{text}<extra></extra>",
         "legendgroup": "FC: LA MIRADA, CA",
         "marker": {
          "color": "#19d3f3",
          "pattern": {
           "shape": ""
          }
         },
         "name": "FC: LA MIRADA, CA",
         "offsetgroup": "FC: LA MIRADA, CA",
         "orientation": "v",
         "showlegend": true,
         "text": [
          13611
         ],
         "textposition": "auto",
         "texttemplate": "%{y:.3s}",
         "type": "bar",
         "x": [
          "FC: LA MIRADA, CA"
         ],
         "xaxis": "x",
         "y": [
          13611
         ],
         "yaxis": "y"
        },
        {
         "alignmentgroup": "True",
         "hovertemplate": "FC_Name=%{x}<br>Active_Staples_SKU=%{text}<extra></extra>",
         "legendgroup": "FC: NEW DENVER, CO",
         "marker": {
          "color": "#FF6692",
          "pattern": {
           "shape": ""
          }
         },
         "name": "FC: NEW DENVER, CO",
         "offsetgroup": "FC: NEW DENVER, CO",
         "orientation": "v",
         "showlegend": true,
         "text": [
          12979
         ],
         "textposition": "auto",
         "texttemplate": "%{y:.3s}",
         "type": "bar",
         "x": [
          "FC: NEW DENVER, CO"
         ],
         "xaxis": "x",
         "y": [
          12979
         ],
         "yaxis": "y"
        },
        {
         "alignmentgroup": "True",
         "hovertemplate": "FC_Name=%{x}<br>Active_Staples_SKU=%{text}<extra></extra>",
         "legendgroup": "DC SBA: ROCHESTER, NY",
         "marker": {
          "color": "#B6E880",
          "pattern": {
           "shape": ""
          }
         },
         "name": "DC SBA: ROCHESTER, NY",
         "offsetgroup": "DC SBA: ROCHESTER, NY",
         "orientation": "v",
         "showlegend": true,
         "text": [
          10831
         ],
         "textposition": "auto",
         "texttemplate": "%{y:.3s}",
         "type": "bar",
         "x": [
          "DC SBA: ROCHESTER, NY"
         ],
         "xaxis": "x",
         "y": [
          10831
         ],
         "yaxis": "y"
        },
        {
         "alignmentgroup": "True",
         "hovertemplate": "FC_Name=%{x}<br>Active_Staples_SKU=%{text}<extra></extra>",
         "legendgroup": "FC: IDAHO FALLS, ID",
         "marker": {
          "color": "#FF97FF",
          "pattern": {
           "shape": ""
          }
         },
         "name": "FC: IDAHO FALLS, ID",
         "offsetgroup": "FC: IDAHO FALLS, ID",
         "orientation": "v",
         "showlegend": true,
         "text": [
          9099
         ],
         "textposition": "auto",
         "texttemplate": "%{y:.3s}",
         "type": "bar",
         "x": [
          "FC: IDAHO FALLS, ID"
         ],
         "xaxis": "x",
         "y": [
          9099
         ],
         "yaxis": "y"
        },
        {
         "alignmentgroup": "True",
         "hovertemplate": "FC_Name=%{x}<br>Active_Staples_SKU=%{text}<extra></extra>",
         "legendgroup": "FC: ARDEN HILLS, MN",
         "marker": {
          "color": "#FECB52",
          "pattern": {
           "shape": ""
          }
         },
         "name": "FC: ARDEN HILLS, MN",
         "offsetgroup": "FC: ARDEN HILLS, MN",
         "orientation": "v",
         "showlegend": true,
         "text": [
          8770
         ],
         "textposition": "auto",
         "texttemplate": "%{y:.3s}",
         "type": "bar",
         "x": [
          "FC: ARDEN HILLS, MN"
         ],
         "xaxis": "x",
         "y": [
          8770
         ],
         "yaxis": "y"
        }
       ],
       "layout": {
        "barmode": "relative",
        "legend": {
         "title": {
          "text": "FC_Name"
         },
         "tracegroupgap": 0
        },
        "margin": {
         "t": 60
        },
        "paper_bgcolor": "rgba(0, 0, 0, 0)",
        "plot_bgcolor": "rgba(0, 0, 0, 0)",
        "template": {
         "data": {
          "bar": [
           {
            "error_x": {
             "color": "#2a3f5f"
            },
            "error_y": {
             "color": "#2a3f5f"
            },
            "marker": {
             "line": {
              "color": "#E5ECF6",
              "width": 0.5
             },
             "pattern": {
              "fillmode": "overlay",
              "size": 10,
              "solidity": 0.2
             }
            },
            "type": "bar"
           }
          ],
          "barpolar": [
           {
            "marker": {
             "line": {
              "color": "#E5ECF6",
              "width": 0.5
             },
             "pattern": {
              "fillmode": "overlay",
              "size": 10,
              "solidity": 0.2
             }
            },
            "type": "barpolar"
           }
          ],
          "carpet": [
           {
            "aaxis": {
             "endlinecolor": "#2a3f5f",
             "gridcolor": "white",
             "linecolor": "white",
             "minorgridcolor": "white",
             "startlinecolor": "#2a3f5f"
            },
            "baxis": {
             "endlinecolor": "#2a3f5f",
             "gridcolor": "white",
             "linecolor": "white",
             "minorgridcolor": "white",
             "startlinecolor": "#2a3f5f"
            },
            "type": "carpet"
           }
          ],
          "choropleth": [
           {
            "colorbar": {
             "outlinewidth": 0,
             "ticks": ""
            },
            "type": "choropleth"
           }
          ],
          "contour": [
           {
            "colorbar": {
             "outlinewidth": 0,
             "ticks": ""
            },
            "colorscale": [
             [
              0,
              "#0d0887"
             ],
             [
              0.1111111111111111,
              "#46039f"
             ],
             [
              0.2222222222222222,
              "#7201a8"
             ],
             [
              0.3333333333333333,
              "#9c179e"
             ],
             [
              0.4444444444444444,
              "#bd3786"
             ],
             [
              0.5555555555555556,
              "#d8576b"
             ],
             [
              0.6666666666666666,
              "#ed7953"
             ],
             [
              0.7777777777777778,
              "#fb9f3a"
             ],
             [
              0.8888888888888888,
              "#fdca26"
             ],
             [
              1,
              "#f0f921"
             ]
            ],
            "type": "contour"
           }
          ],
          "contourcarpet": [
           {
            "colorbar": {
             "outlinewidth": 0,
             "ticks": ""
            },
            "type": "contourcarpet"
           }
          ],
          "heatmap": [
           {
            "colorbar": {
             "outlinewidth": 0,
             "ticks": ""
            },
            "colorscale": [
             [
              0,
              "#0d0887"
             ],
             [
              0.1111111111111111,
              "#46039f"
             ],
             [
              0.2222222222222222,
              "#7201a8"
             ],
             [
              0.3333333333333333,
              "#9c179e"
             ],
             [
              0.4444444444444444,
              "#bd3786"
             ],
             [
              0.5555555555555556,
              "#d8576b"
             ],
             [
              0.6666666666666666,
              "#ed7953"
             ],
             [
              0.7777777777777778,
              "#fb9f3a"
             ],
             [
              0.8888888888888888,
              "#fdca26"
             ],
             [
              1,
              "#f0f921"
             ]
            ],
            "type": "heatmap"
           }
          ],
          "heatmapgl": [
           {
            "colorbar": {
             "outlinewidth": 0,
             "ticks": ""
            },
            "colorscale": [
             [
              0,
              "#0d0887"
             ],
             [
              0.1111111111111111,
              "#46039f"
             ],
             [
              0.2222222222222222,
              "#7201a8"
             ],
             [
              0.3333333333333333,
              "#9c179e"
             ],
             [
              0.4444444444444444,
              "#bd3786"
             ],
             [
              0.5555555555555556,
              "#d8576b"
             ],
             [
              0.6666666666666666,
              "#ed7953"
             ],
             [
              0.7777777777777778,
              "#fb9f3a"
             ],
             [
              0.8888888888888888,
              "#fdca26"
             ],
             [
              1,
              "#f0f921"
             ]
            ],
            "type": "heatmapgl"
           }
          ],
          "histogram": [
           {
            "marker": {
             "pattern": {
              "fillmode": "overlay",
              "size": 10,
              "solidity": 0.2
             }
            },
            "type": "histogram"
           }
          ],
          "histogram2d": [
           {
            "colorbar": {
             "outlinewidth": 0,
             "ticks": ""
            },
            "colorscale": [
             [
              0,
              "#0d0887"
             ],
             [
              0.1111111111111111,
              "#46039f"
             ],
             [
              0.2222222222222222,
              "#7201a8"
             ],
             [
              0.3333333333333333,
              "#9c179e"
             ],
             [
              0.4444444444444444,
              "#bd3786"
             ],
             [
              0.5555555555555556,
              "#d8576b"
             ],
             [
              0.6666666666666666,
              "#ed7953"
             ],
             [
              0.7777777777777778,
              "#fb9f3a"
             ],
             [
              0.8888888888888888,
              "#fdca26"
             ],
             [
              1,
              "#f0f921"
             ]
            ],
            "type": "histogram2d"
           }
          ],
          "histogram2dcontour": [
           {
            "colorbar": {
             "outlinewidth": 0,
             "ticks": ""
            },
            "colorscale": [
             [
              0,
              "#0d0887"
             ],
             [
              0.1111111111111111,
              "#46039f"
             ],
             [
              0.2222222222222222,
              "#7201a8"
             ],
             [
              0.3333333333333333,
              "#9c179e"
             ],
             [
              0.4444444444444444,
              "#bd3786"
             ],
             [
              0.5555555555555556,
              "#d8576b"
             ],
             [
              0.6666666666666666,
              "#ed7953"
             ],
             [
              0.7777777777777778,
              "#fb9f3a"
             ],
             [
              0.8888888888888888,
              "#fdca26"
             ],
             [
              1,
              "#f0f921"
             ]
            ],
            "type": "histogram2dcontour"
           }
          ],
          "mesh3d": [
           {
            "colorbar": {
             "outlinewidth": 0,
             "ticks": ""
            },
            "type": "mesh3d"
           }
          ],
          "parcoords": [
           {
            "line": {
             "colorbar": {
              "outlinewidth": 0,
              "ticks": ""
             }
            },
            "type": "parcoords"
           }
          ],
          "pie": [
           {
            "automargin": true,
            "type": "pie"
           }
          ],
          "scatter": [
           {
            "fillpattern": {
             "fillmode": "overlay",
             "size": 10,
             "solidity": 0.2
            },
            "type": "scatter"
           }
          ],
          "scatter3d": [
           {
            "line": {
             "colorbar": {
              "outlinewidth": 0,
              "ticks": ""
             }
            },
            "marker": {
             "colorbar": {
              "outlinewidth": 0,
              "ticks": ""
             }
            },
            "type": "scatter3d"
           }
          ],
          "scattercarpet": [
           {
            "marker": {
             "colorbar": {
              "outlinewidth": 0,
              "ticks": ""
             }
            },
            "type": "scattercarpet"
           }
          ],
          "scattergeo": [
           {
            "marker": {
             "colorbar": {
              "outlinewidth": 0,
              "ticks": ""
             }
            },
            "type": "scattergeo"
           }
          ],
          "scattergl": [
           {
            "marker": {
             "colorbar": {
              "outlinewidth": 0,
              "ticks": ""
             }
            },
            "type": "scattergl"
           }
          ],
          "scattermapbox": [
           {
            "marker": {
             "colorbar": {
              "outlinewidth": 0,
              "ticks": ""
             }
            },
            "type": "scattermapbox"
           }
          ],
          "scatterpolar": [
           {
            "marker": {
             "colorbar": {
              "outlinewidth": 0,
              "ticks": ""
             }
            },
            "type": "scatterpolar"
           }
          ],
          "scatterpolargl": [
           {
            "marker": {
             "colorbar": {
              "outlinewidth": 0,
              "ticks": ""
             }
            },
            "type": "scatterpolargl"
           }
          ],
          "scatterternary": [
           {
            "marker": {
             "colorbar": {
              "outlinewidth": 0,
              "ticks": ""
             }
            },
            "type": "scatterternary"
           }
          ],
          "surface": [
           {
            "colorbar": {
             "outlinewidth": 0,
             "ticks": ""
            },
            "colorscale": [
             [
              0,
              "#0d0887"
             ],
             [
              0.1111111111111111,
              "#46039f"
             ],
             [
              0.2222222222222222,
              "#7201a8"
             ],
             [
              0.3333333333333333,
              "#9c179e"
             ],
             [
              0.4444444444444444,
              "#bd3786"
             ],
             [
              0.5555555555555556,
              "#d8576b"
             ],
             [
              0.6666666666666666,
              "#ed7953"
             ],
             [
              0.7777777777777778,
              "#fb9f3a"
             ],
             [
              0.8888888888888888,
              "#fdca26"
             ],
             [
              1,
              "#f0f921"
             ]
            ],
            "type": "surface"
           }
          ],
          "table": [
           {
            "cells": {
             "fill": {
              "color": "#EBF0F8"
             },
             "line": {
              "color": "white"
             }
            },
            "header": {
             "fill": {
              "color": "#C8D4E3"
             },
             "line": {
              "color": "white"
             }
            },
            "type": "table"
           }
          ]
         },
         "layout": {
          "annotationdefaults": {
           "arrowcolor": "#2a3f5f",
           "arrowhead": 0,
           "arrowwidth": 1
          },
          "autotypenumbers": "strict",
          "coloraxis": {
           "colorbar": {
            "outlinewidth": 0,
            "ticks": ""
           }
          },
          "colorscale": {
           "diverging": [
            [
             0,
             "#8e0152"
            ],
            [
             0.1,
             "#c51b7d"
            ],
            [
             0.2,
             "#de77ae"
            ],
            [
             0.3,
             "#f1b6da"
            ],
            [
             0.4,
             "#fde0ef"
            ],
            [
             0.5,
             "#f7f7f7"
            ],
            [
             0.6,
             "#e6f5d0"
            ],
            [
             0.7,
             "#b8e186"
            ],
            [
             0.8,
             "#7fbc41"
            ],
            [
             0.9,
             "#4d9221"
            ],
            [
             1,
             "#276419"
            ]
           ],
           "sequential": [
            [
             0,
             "#0d0887"
            ],
            [
             0.1111111111111111,
             "#46039f"
            ],
            [
             0.2222222222222222,
             "#7201a8"
            ],
            [
             0.3333333333333333,
             "#9c179e"
            ],
            [
             0.4444444444444444,
             "#bd3786"
            ],
            [
             0.5555555555555556,
             "#d8576b"
            ],
            [
             0.6666666666666666,
             "#ed7953"
            ],
            [
             0.7777777777777778,
             "#fb9f3a"
            ],
            [
             0.8888888888888888,
             "#fdca26"
            ],
            [
             1,
             "#f0f921"
            ]
           ],
           "sequentialminus": [
            [
             0,
             "#0d0887"
            ],
            [
             0.1111111111111111,
             "#46039f"
            ],
            [
             0.2222222222222222,
             "#7201a8"
            ],
            [
             0.3333333333333333,
             "#9c179e"
            ],
            [
             0.4444444444444444,
             "#bd3786"
            ],
            [
             0.5555555555555556,
             "#d8576b"
            ],
            [
             0.6666666666666666,
             "#ed7953"
            ],
            [
             0.7777777777777778,
             "#fb9f3a"
            ],
            [
             0.8888888888888888,
             "#fdca26"
            ],
            [
             1,
             "#f0f921"
            ]
           ]
          },
          "colorway": [
           "#636efa",
           "#EF553B",
           "#00cc96",
           "#ab63fa",
           "#FFA15A",
           "#19d3f3",
           "#FF6692",
           "#B6E880",
           "#FF97FF",
           "#FECB52"
          ],
          "font": {
           "color": "#2a3f5f"
          },
          "geo": {
           "bgcolor": "white",
           "lakecolor": "white",
           "landcolor": "#E5ECF6",
           "showlakes": true,
           "showland": true,
           "subunitcolor": "white"
          },
          "hoverlabel": {
           "align": "left"
          },
          "hovermode": "closest",
          "mapbox": {
           "style": "light"
          },
          "paper_bgcolor": "white",
          "plot_bgcolor": "#E5ECF6",
          "polar": {
           "angularaxis": {
            "gridcolor": "white",
            "linecolor": "white",
            "ticks": ""
           },
           "bgcolor": "#E5ECF6",
           "radialaxis": {
            "gridcolor": "white",
            "linecolor": "white",
            "ticks": ""
           }
          },
          "scene": {
           "xaxis": {
            "backgroundcolor": "#E5ECF6",
            "gridcolor": "white",
            "gridwidth": 2,
            "linecolor": "white",
            "showbackground": true,
            "ticks": "",
            "zerolinecolor": "white"
           },
           "yaxis": {
            "backgroundcolor": "#E5ECF6",
            "gridcolor": "white",
            "gridwidth": 2,
            "linecolor": "white",
            "showbackground": true,
            "ticks": "",
            "zerolinecolor": "white"
           },
           "zaxis": {
            "backgroundcolor": "#E5ECF6",
            "gridcolor": "white",
            "gridwidth": 2,
            "linecolor": "white",
            "showbackground": true,
            "ticks": "",
            "zerolinecolor": "white"
           }
          },
          "shapedefaults": {
           "line": {
            "color": "#2a3f5f"
           }
          },
          "ternary": {
           "aaxis": {
            "gridcolor": "white",
            "linecolor": "white",
            "ticks": ""
           },
           "baxis": {
            "gridcolor": "white",
            "linecolor": "white",
            "ticks": ""
           },
           "bgcolor": "#E5ECF6",
           "caxis": {
            "gridcolor": "white",
            "linecolor": "white",
            "ticks": ""
           }
          },
          "title": {
           "x": 0.05
          },
          "xaxis": {
           "automargin": true,
           "gridcolor": "white",
           "linecolor": "white",
           "ticks": "",
           "title": {
            "standoff": 15
           },
           "zerolinecolor": "white",
           "zerolinewidth": 2
          },
          "yaxis": {
           "automargin": true,
           "gridcolor": "white",
           "linecolor": "white",
           "ticks": "",
           "title": {
            "standoff": 15
           },
           "zerolinecolor": "white",
           "zerolinewidth": 2
          }
         }
        },
        "title": {
         "text": "No of Active SKUs at FC level"
        },
        "xaxis": {
         "anchor": "y",
         "categoryarray": [
          "FC: LONDON, OH",
          "FC: GREENCASTLE, PA",
          "FC: ONTARIO, CA",
          "FC: DALLAS, TX",
          "FC: MONTGOMERY, NY",
          "FC: BELOIT, WI",
          "FC: NEW ORLANDO, FL",
          "FC: STOCKTON, CA",
          "FC: ATLANTA, GA",
          "FC: PUTNAM, CT",
          "FC: CHARLOTTE, NC",
          "FC: KANSAS CITY, MO",
          "FC: PORTLAND, OR",
          "FC: PHOENIX AZ",
          "FC: HOUSTON, TX",
          "FC: LA MIRADA, CA",
          "FC: NEW DENVER, CO",
          "DC SBA: ROCHESTER, NY",
          "FC: IDAHO FALLS, ID",
          "FC: ARDEN HILLS, MN"
         ],
         "categoryorder": "array",
         "domain": [
          0,
          1
         ],
         "title": {
          "text": "FC_Name"
         }
        },
        "yaxis": {
         "anchor": "x",
         "domain": [
          0,
          1
         ],
         "title": {
          "text": "Active_Staples_SKU"
         }
        }
       }
      },
      "text/html": [
       "<div>                            <div id=\"e10b8ec6-dbe6-41cf-9049-03e769613ee4\" class=\"plotly-graph-div\" style=\"height:525px; width:100%;\"></div>            <script type=\"text/javascript\">                require([\"plotly\"], function(Plotly) {                    window.PLOTLYENV=window.PLOTLYENV || {};                                    if (document.getElementById(\"e10b8ec6-dbe6-41cf-9049-03e769613ee4\")) {                    Plotly.newPlot(                        \"e10b8ec6-dbe6-41cf-9049-03e769613ee4\",                        [{\"alignmentgroup\":\"True\",\"hovertemplate\":\"FC_Name=%{x}<br>Active_Staples_SKU=%{text}<extra></extra>\",\"legendgroup\":\"FC: LONDON, OH\",\"marker\":{\"color\":\"#636efa\",\"pattern\":{\"shape\":\"\"}},\"name\":\"FC: LONDON, OH\",\"offsetgroup\":\"FC: LONDON, OH\",\"orientation\":\"v\",\"showlegend\":true,\"text\":[23527.0],\"textposition\":\"auto\",\"texttemplate\":\"%{y:.3s}\",\"x\":[\"FC: LONDON, OH\"],\"xaxis\":\"x\",\"y\":[23527],\"yaxis\":\"y\",\"type\":\"bar\"},{\"alignmentgroup\":\"True\",\"hovertemplate\":\"FC_Name=%{x}<br>Active_Staples_SKU=%{text}<extra></extra>\",\"legendgroup\":\"FC: GREENCASTLE, PA\",\"marker\":{\"color\":\"#EF553B\",\"pattern\":{\"shape\":\"\"}},\"name\":\"FC: GREENCASTLE, PA\",\"offsetgroup\":\"FC: GREENCASTLE, PA\",\"orientation\":\"v\",\"showlegend\":true,\"text\":[20745.0],\"textposition\":\"auto\",\"texttemplate\":\"%{y:.3s}\",\"x\":[\"FC: GREENCASTLE, PA\"],\"xaxis\":\"x\",\"y\":[20745],\"yaxis\":\"y\",\"type\":\"bar\"},{\"alignmentgroup\":\"True\",\"hovertemplate\":\"FC_Name=%{x}<br>Active_Staples_SKU=%{text}<extra></extra>\",\"legendgroup\":\"FC: ONTARIO, CA\",\"marker\":{\"color\":\"#00cc96\",\"pattern\":{\"shape\":\"\"}},\"name\":\"FC: ONTARIO, CA\",\"offsetgroup\":\"FC: ONTARIO, CA\",\"orientation\":\"v\",\"showlegend\":true,\"text\":[20443.0],\"textposition\":\"auto\",\"texttemplate\":\"%{y:.3s}\",\"x\":[\"FC: ONTARIO, CA\"],\"xaxis\":\"x\",\"y\":[20443],\"yaxis\":\"y\",\"type\":\"bar\"},{\"alignmentgroup\":\"True\",\"hovertemplate\":\"FC_Name=%{x}<br>Active_Staples_SKU=%{text}<extra></extra>\",\"legendgroup\":\"FC: DALLAS, TX\",\"marker\":{\"color\":\"#ab63fa\",\"pattern\":{\"shape\":\"\"}},\"name\":\"FC: DALLAS, TX\",\"offsetgroup\":\"FC: DALLAS, TX\",\"orientation\":\"v\",\"showlegend\":true,\"text\":[20420.0],\"textposition\":\"auto\",\"texttemplate\":\"%{y:.3s}\",\"x\":[\"FC: DALLAS, TX\"],\"xaxis\":\"x\",\"y\":[20420],\"yaxis\":\"y\",\"type\":\"bar\"},{\"alignmentgroup\":\"True\",\"hovertemplate\":\"FC_Name=%{x}<br>Active_Staples_SKU=%{text}<extra></extra>\",\"legendgroup\":\"FC: MONTGOMERY, NY\",\"marker\":{\"color\":\"#FFA15A\",\"pattern\":{\"shape\":\"\"}},\"name\":\"FC: MONTGOMERY, NY\",\"offsetgroup\":\"FC: MONTGOMERY, NY\",\"orientation\":\"v\",\"showlegend\":true,\"text\":[19481.0],\"textposition\":\"auto\",\"texttemplate\":\"%{y:.3s}\",\"x\":[\"FC: MONTGOMERY, NY\"],\"xaxis\":\"x\",\"y\":[19481],\"yaxis\":\"y\",\"type\":\"bar\"},{\"alignmentgroup\":\"True\",\"hovertemplate\":\"FC_Name=%{x}<br>Active_Staples_SKU=%{text}<extra></extra>\",\"legendgroup\":\"FC: BELOIT, WI\",\"marker\":{\"color\":\"#19d3f3\",\"pattern\":{\"shape\":\"\"}},\"name\":\"FC: BELOIT, WI\",\"offsetgroup\":\"FC: BELOIT, WI\",\"orientation\":\"v\",\"showlegend\":true,\"text\":[19091.0],\"textposition\":\"auto\",\"texttemplate\":\"%{y:.3s}\",\"x\":[\"FC: BELOIT, WI\"],\"xaxis\":\"x\",\"y\":[19091],\"yaxis\":\"y\",\"type\":\"bar\"},{\"alignmentgroup\":\"True\",\"hovertemplate\":\"FC_Name=%{x}<br>Active_Staples_SKU=%{text}<extra></extra>\",\"legendgroup\":\"FC: NEW ORLANDO, FL\",\"marker\":{\"color\":\"#FF6692\",\"pattern\":{\"shape\":\"\"}},\"name\":\"FC: NEW ORLANDO, FL\",\"offsetgroup\":\"FC: NEW ORLANDO, FL\",\"orientation\":\"v\",\"showlegend\":true,\"text\":[18941.0],\"textposition\":\"auto\",\"texttemplate\":\"%{y:.3s}\",\"x\":[\"FC: NEW ORLANDO, FL\"],\"xaxis\":\"x\",\"y\":[18941],\"yaxis\":\"y\",\"type\":\"bar\"},{\"alignmentgroup\":\"True\",\"hovertemplate\":\"FC_Name=%{x}<br>Active_Staples_SKU=%{text}<extra></extra>\",\"legendgroup\":\"FC: STOCKTON, CA\",\"marker\":{\"color\":\"#B6E880\",\"pattern\":{\"shape\":\"\"}},\"name\":\"FC: STOCKTON, CA\",\"offsetgroup\":\"FC: STOCKTON, CA\",\"orientation\":\"v\",\"showlegend\":true,\"text\":[18592.0],\"textposition\":\"auto\",\"texttemplate\":\"%{y:.3s}\",\"x\":[\"FC: STOCKTON, CA\"],\"xaxis\":\"x\",\"y\":[18592],\"yaxis\":\"y\",\"type\":\"bar\"},{\"alignmentgroup\":\"True\",\"hovertemplate\":\"FC_Name=%{x}<br>Active_Staples_SKU=%{text}<extra></extra>\",\"legendgroup\":\"FC: ATLANTA, GA\",\"marker\":{\"color\":\"#FF97FF\",\"pattern\":{\"shape\":\"\"}},\"name\":\"FC: ATLANTA, GA\",\"offsetgroup\":\"FC: ATLANTA, GA\",\"orientation\":\"v\",\"showlegend\":true,\"text\":[18472.0],\"textposition\":\"auto\",\"texttemplate\":\"%{y:.3s}\",\"x\":[\"FC: ATLANTA, GA\"],\"xaxis\":\"x\",\"y\":[18472],\"yaxis\":\"y\",\"type\":\"bar\"},{\"alignmentgroup\":\"True\",\"hovertemplate\":\"FC_Name=%{x}<br>Active_Staples_SKU=%{text}<extra></extra>\",\"legendgroup\":\"FC: PUTNAM, CT\",\"marker\":{\"color\":\"#FECB52\",\"pattern\":{\"shape\":\"\"}},\"name\":\"FC: PUTNAM, CT\",\"offsetgroup\":\"FC: PUTNAM, CT\",\"orientation\":\"v\",\"showlegend\":true,\"text\":[17920.0],\"textposition\":\"auto\",\"texttemplate\":\"%{y:.3s}\",\"x\":[\"FC: PUTNAM, CT\"],\"xaxis\":\"x\",\"y\":[17920],\"yaxis\":\"y\",\"type\":\"bar\"},{\"alignmentgroup\":\"True\",\"hovertemplate\":\"FC_Name=%{x}<br>Active_Staples_SKU=%{text}<extra></extra>\",\"legendgroup\":\"FC: CHARLOTTE, NC\",\"marker\":{\"color\":\"#636efa\",\"pattern\":{\"shape\":\"\"}},\"name\":\"FC: CHARLOTTE, NC\",\"offsetgroup\":\"FC: CHARLOTTE, NC\",\"orientation\":\"v\",\"showlegend\":true,\"text\":[17767.0],\"textposition\":\"auto\",\"texttemplate\":\"%{y:.3s}\",\"x\":[\"FC: CHARLOTTE, NC\"],\"xaxis\":\"x\",\"y\":[17767],\"yaxis\":\"y\",\"type\":\"bar\"},{\"alignmentgroup\":\"True\",\"hovertemplate\":\"FC_Name=%{x}<br>Active_Staples_SKU=%{text}<extra></extra>\",\"legendgroup\":\"FC: KANSAS CITY, MO\",\"marker\":{\"color\":\"#EF553B\",\"pattern\":{\"shape\":\"\"}},\"name\":\"FC: KANSAS CITY, MO\",\"offsetgroup\":\"FC: KANSAS CITY, MO\",\"orientation\":\"v\",\"showlegend\":true,\"text\":[16765.0],\"textposition\":\"auto\",\"texttemplate\":\"%{y:.3s}\",\"x\":[\"FC: KANSAS CITY, MO\"],\"xaxis\":\"x\",\"y\":[16765],\"yaxis\":\"y\",\"type\":\"bar\"},{\"alignmentgroup\":\"True\",\"hovertemplate\":\"FC_Name=%{x}<br>Active_Staples_SKU=%{text}<extra></extra>\",\"legendgroup\":\"FC: PORTLAND, OR\",\"marker\":{\"color\":\"#00cc96\",\"pattern\":{\"shape\":\"\"}},\"name\":\"FC: PORTLAND, OR\",\"offsetgroup\":\"FC: PORTLAND, OR\",\"orientation\":\"v\",\"showlegend\":true,\"text\":[15850.0],\"textposition\":\"auto\",\"texttemplate\":\"%{y:.3s}\",\"x\":[\"FC: PORTLAND, OR\"],\"xaxis\":\"x\",\"y\":[15850],\"yaxis\":\"y\",\"type\":\"bar\"},{\"alignmentgroup\":\"True\",\"hovertemplate\":\"FC_Name=%{x}<br>Active_Staples_SKU=%{text}<extra></extra>\",\"legendgroup\":\"FC: PHOENIX AZ\",\"marker\":{\"color\":\"#ab63fa\",\"pattern\":{\"shape\":\"\"}},\"name\":\"FC: PHOENIX AZ\",\"offsetgroup\":\"FC: PHOENIX AZ\",\"orientation\":\"v\",\"showlegend\":true,\"text\":[14902.0],\"textposition\":\"auto\",\"texttemplate\":\"%{y:.3s}\",\"x\":[\"FC: PHOENIX AZ\"],\"xaxis\":\"x\",\"y\":[14902],\"yaxis\":\"y\",\"type\":\"bar\"},{\"alignmentgroup\":\"True\",\"hovertemplate\":\"FC_Name=%{x}<br>Active_Staples_SKU=%{text}<extra></extra>\",\"legendgroup\":\"FC: HOUSTON, TX\",\"marker\":{\"color\":\"#FFA15A\",\"pattern\":{\"shape\":\"\"}},\"name\":\"FC: HOUSTON, TX\",\"offsetgroup\":\"FC: HOUSTON, TX\",\"orientation\":\"v\",\"showlegend\":true,\"text\":[14387.0],\"textposition\":\"auto\",\"texttemplate\":\"%{y:.3s}\",\"x\":[\"FC: HOUSTON, TX\"],\"xaxis\":\"x\",\"y\":[14387],\"yaxis\":\"y\",\"type\":\"bar\"},{\"alignmentgroup\":\"True\",\"hovertemplate\":\"FC_Name=%{x}<br>Active_Staples_SKU=%{text}<extra></extra>\",\"legendgroup\":\"FC: LA MIRADA, CA\",\"marker\":{\"color\":\"#19d3f3\",\"pattern\":{\"shape\":\"\"}},\"name\":\"FC: LA MIRADA, CA\",\"offsetgroup\":\"FC: LA MIRADA, CA\",\"orientation\":\"v\",\"showlegend\":true,\"text\":[13611.0],\"textposition\":\"auto\",\"texttemplate\":\"%{y:.3s}\",\"x\":[\"FC: LA MIRADA, CA\"],\"xaxis\":\"x\",\"y\":[13611],\"yaxis\":\"y\",\"type\":\"bar\"},{\"alignmentgroup\":\"True\",\"hovertemplate\":\"FC_Name=%{x}<br>Active_Staples_SKU=%{text}<extra></extra>\",\"legendgroup\":\"FC: NEW DENVER, CO\",\"marker\":{\"color\":\"#FF6692\",\"pattern\":{\"shape\":\"\"}},\"name\":\"FC: NEW DENVER, CO\",\"offsetgroup\":\"FC: NEW DENVER, CO\",\"orientation\":\"v\",\"showlegend\":true,\"text\":[12979.0],\"textposition\":\"auto\",\"texttemplate\":\"%{y:.3s}\",\"x\":[\"FC: NEW DENVER, CO\"],\"xaxis\":\"x\",\"y\":[12979],\"yaxis\":\"y\",\"type\":\"bar\"},{\"alignmentgroup\":\"True\",\"hovertemplate\":\"FC_Name=%{x}<br>Active_Staples_SKU=%{text}<extra></extra>\",\"legendgroup\":\"DC SBA: ROCHESTER, NY\",\"marker\":{\"color\":\"#B6E880\",\"pattern\":{\"shape\":\"\"}},\"name\":\"DC SBA: ROCHESTER, NY\",\"offsetgroup\":\"DC SBA: ROCHESTER, NY\",\"orientation\":\"v\",\"showlegend\":true,\"text\":[10831.0],\"textposition\":\"auto\",\"texttemplate\":\"%{y:.3s}\",\"x\":[\"DC SBA: ROCHESTER, NY\"],\"xaxis\":\"x\",\"y\":[10831],\"yaxis\":\"y\",\"type\":\"bar\"},{\"alignmentgroup\":\"True\",\"hovertemplate\":\"FC_Name=%{x}<br>Active_Staples_SKU=%{text}<extra></extra>\",\"legendgroup\":\"FC: IDAHO FALLS, ID\",\"marker\":{\"color\":\"#FF97FF\",\"pattern\":{\"shape\":\"\"}},\"name\":\"FC: IDAHO FALLS, ID\",\"offsetgroup\":\"FC: IDAHO FALLS, ID\",\"orientation\":\"v\",\"showlegend\":true,\"text\":[9099.0],\"textposition\":\"auto\",\"texttemplate\":\"%{y:.3s}\",\"x\":[\"FC: IDAHO FALLS, ID\"],\"xaxis\":\"x\",\"y\":[9099],\"yaxis\":\"y\",\"type\":\"bar\"},{\"alignmentgroup\":\"True\",\"hovertemplate\":\"FC_Name=%{x}<br>Active_Staples_SKU=%{text}<extra></extra>\",\"legendgroup\":\"FC: ARDEN HILLS, MN\",\"marker\":{\"color\":\"#FECB52\",\"pattern\":{\"shape\":\"\"}},\"name\":\"FC: ARDEN HILLS, MN\",\"offsetgroup\":\"FC: ARDEN HILLS, MN\",\"orientation\":\"v\",\"showlegend\":true,\"text\":[8770.0],\"textposition\":\"auto\",\"texttemplate\":\"%{y:.3s}\",\"x\":[\"FC: ARDEN HILLS, MN\"],\"xaxis\":\"x\",\"y\":[8770],\"yaxis\":\"y\",\"type\":\"bar\"}],                        {\"template\":{\"data\":{\"histogram2dcontour\":[{\"type\":\"histogram2dcontour\",\"colorbar\":{\"outlinewidth\":0,\"ticks\":\"\"},\"colorscale\":[[0.0,\"#0d0887\"],[0.1111111111111111,\"#46039f\"],[0.2222222222222222,\"#7201a8\"],[0.3333333333333333,\"#9c179e\"],[0.4444444444444444,\"#bd3786\"],[0.5555555555555556,\"#d8576b\"],[0.6666666666666666,\"#ed7953\"],[0.7777777777777778,\"#fb9f3a\"],[0.8888888888888888,\"#fdca26\"],[1.0,\"#f0f921\"]]}],\"choropleth\":[{\"type\":\"choropleth\",\"colorbar\":{\"outlinewidth\":0,\"ticks\":\"\"}}],\"histogram2d\":[{\"type\":\"histogram2d\",\"colorbar\":{\"outlinewidth\":0,\"ticks\":\"\"},\"colorscale\":[[0.0,\"#0d0887\"],[0.1111111111111111,\"#46039f\"],[0.2222222222222222,\"#7201a8\"],[0.3333333333333333,\"#9c179e\"],[0.4444444444444444,\"#bd3786\"],[0.5555555555555556,\"#d8576b\"],[0.6666666666666666,\"#ed7953\"],[0.7777777777777778,\"#fb9f3a\"],[0.8888888888888888,\"#fdca26\"],[1.0,\"#f0f921\"]]}],\"heatmap\":[{\"type\":\"heatmap\",\"colorbar\":{\"outlinewidth\":0,\"ticks\":\"\"},\"colorscale\":[[0.0,\"#0d0887\"],[0.1111111111111111,\"#46039f\"],[0.2222222222222222,\"#7201a8\"],[0.3333333333333333,\"#9c179e\"],[0.4444444444444444,\"#bd3786\"],[0.5555555555555556,\"#d8576b\"],[0.6666666666666666,\"#ed7953\"],[0.7777777777777778,\"#fb9f3a\"],[0.8888888888888888,\"#fdca26\"],[1.0,\"#f0f921\"]]}],\"heatmapgl\":[{\"type\":\"heatmapgl\",\"colorbar\":{\"outlinewidth\":0,\"ticks\":\"\"},\"colorscale\":[[0.0,\"#0d0887\"],[0.1111111111111111,\"#46039f\"],[0.2222222222222222,\"#7201a8\"],[0.3333333333333333,\"#9c179e\"],[0.4444444444444444,\"#bd3786\"],[0.5555555555555556,\"#d8576b\"],[0.6666666666666666,\"#ed7953\"],[0.7777777777777778,\"#fb9f3a\"],[0.8888888888888888,\"#fdca26\"],[1.0,\"#f0f921\"]]}],\"contourcarpet\":[{\"type\":\"contourcarpet\",\"colorbar\":{\"outlinewidth\":0,\"ticks\":\"\"}}],\"contour\":[{\"type\":\"contour\",\"colorbar\":{\"outlinewidth\":0,\"ticks\":\"\"},\"colorscale\":[[0.0,\"#0d0887\"],[0.1111111111111111,\"#46039f\"],[0.2222222222222222,\"#7201a8\"],[0.3333333333333333,\"#9c179e\"],[0.4444444444444444,\"#bd3786\"],[0.5555555555555556,\"#d8576b\"],[0.6666666666666666,\"#ed7953\"],[0.7777777777777778,\"#fb9f3a\"],[0.8888888888888888,\"#fdca26\"],[1.0,\"#f0f921\"]]}],\"surface\":[{\"type\":\"surface\",\"colorbar\":{\"outlinewidth\":0,\"ticks\":\"\"},\"colorscale\":[[0.0,\"#0d0887\"],[0.1111111111111111,\"#46039f\"],[0.2222222222222222,\"#7201a8\"],[0.3333333333333333,\"#9c179e\"],[0.4444444444444444,\"#bd3786\"],[0.5555555555555556,\"#d8576b\"],[0.6666666666666666,\"#ed7953\"],[0.7777777777777778,\"#fb9f3a\"],[0.8888888888888888,\"#fdca26\"],[1.0,\"#f0f921\"]]}],\"mesh3d\":[{\"type\":\"mesh3d\",\"colorbar\":{\"outlinewidth\":0,\"ticks\":\"\"}}],\"scatter\":[{\"fillpattern\":{\"fillmode\":\"overlay\",\"size\":10,\"solidity\":0.2},\"type\":\"scatter\"}],\"parcoords\":[{\"type\":\"parcoords\",\"line\":{\"colorbar\":{\"outlinewidth\":0,\"ticks\":\"\"}}}],\"scatterpolargl\":[{\"type\":\"scatterpolargl\",\"marker\":{\"colorbar\":{\"outlinewidth\":0,\"ticks\":\"\"}}}],\"bar\":[{\"error_x\":{\"color\":\"#2a3f5f\"},\"error_y\":{\"color\":\"#2a3f5f\"},\"marker\":{\"line\":{\"color\":\"#E5ECF6\",\"width\":0.5},\"pattern\":{\"fillmode\":\"overlay\",\"size\":10,\"solidity\":0.2}},\"type\":\"bar\"}],\"scattergeo\":[{\"type\":\"scattergeo\",\"marker\":{\"colorbar\":{\"outlinewidth\":0,\"ticks\":\"\"}}}],\"scatterpolar\":[{\"type\":\"scatterpolar\",\"marker\":{\"colorbar\":{\"outlinewidth\":0,\"ticks\":\"\"}}}],\"histogram\":[{\"marker\":{\"pattern\":{\"fillmode\":\"overlay\",\"size\":10,\"solidity\":0.2}},\"type\":\"histogram\"}],\"scattergl\":[{\"type\":\"scattergl\",\"marker\":{\"colorbar\":{\"outlinewidth\":0,\"ticks\":\"\"}}}],\"scatter3d\":[{\"type\":\"scatter3d\",\"line\":{\"colorbar\":{\"outlinewidth\":0,\"ticks\":\"\"}},\"marker\":{\"colorbar\":{\"outlinewidth\":0,\"ticks\":\"\"}}}],\"scattermapbox\":[{\"type\":\"scattermapbox\",\"marker\":{\"colorbar\":{\"outlinewidth\":0,\"ticks\":\"\"}}}],\"scatterternary\":[{\"type\":\"scatterternary\",\"marker\":{\"colorbar\":{\"outlinewidth\":0,\"ticks\":\"\"}}}],\"scattercarpet\":[{\"type\":\"scattercarpet\",\"marker\":{\"colorbar\":{\"outlinewidth\":0,\"ticks\":\"\"}}}],\"carpet\":[{\"aaxis\":{\"endlinecolor\":\"#2a3f5f\",\"gridcolor\":\"white\",\"linecolor\":\"white\",\"minorgridcolor\":\"white\",\"startlinecolor\":\"#2a3f5f\"},\"baxis\":{\"endlinecolor\":\"#2a3f5f\",\"gridcolor\":\"white\",\"linecolor\":\"white\",\"minorgridcolor\":\"white\",\"startlinecolor\":\"#2a3f5f\"},\"type\":\"carpet\"}],\"table\":[{\"cells\":{\"fill\":{\"color\":\"#EBF0F8\"},\"line\":{\"color\":\"white\"}},\"header\":{\"fill\":{\"color\":\"#C8D4E3\"},\"line\":{\"color\":\"white\"}},\"type\":\"table\"}],\"barpolar\":[{\"marker\":{\"line\":{\"color\":\"#E5ECF6\",\"width\":0.5},\"pattern\":{\"fillmode\":\"overlay\",\"size\":10,\"solidity\":0.2}},\"type\":\"barpolar\"}],\"pie\":[{\"automargin\":true,\"type\":\"pie\"}]},\"layout\":{\"autotypenumbers\":\"strict\",\"colorway\":[\"#636efa\",\"#EF553B\",\"#00cc96\",\"#ab63fa\",\"#FFA15A\",\"#19d3f3\",\"#FF6692\",\"#B6E880\",\"#FF97FF\",\"#FECB52\"],\"font\":{\"color\":\"#2a3f5f\"},\"hovermode\":\"closest\",\"hoverlabel\":{\"align\":\"left\"},\"paper_bgcolor\":\"white\",\"plot_bgcolor\":\"#E5ECF6\",\"polar\":{\"bgcolor\":\"#E5ECF6\",\"angularaxis\":{\"gridcolor\":\"white\",\"linecolor\":\"white\",\"ticks\":\"\"},\"radialaxis\":{\"gridcolor\":\"white\",\"linecolor\":\"white\",\"ticks\":\"\"}},\"ternary\":{\"bgcolor\":\"#E5ECF6\",\"aaxis\":{\"gridcolor\":\"white\",\"linecolor\":\"white\",\"ticks\":\"\"},\"baxis\":{\"gridcolor\":\"white\",\"linecolor\":\"white\",\"ticks\":\"\"},\"caxis\":{\"gridcolor\":\"white\",\"linecolor\":\"white\",\"ticks\":\"\"}},\"coloraxis\":{\"colorbar\":{\"outlinewidth\":0,\"ticks\":\"\"}},\"colorscale\":{\"sequential\":[[0.0,\"#0d0887\"],[0.1111111111111111,\"#46039f\"],[0.2222222222222222,\"#7201a8\"],[0.3333333333333333,\"#9c179e\"],[0.4444444444444444,\"#bd3786\"],[0.5555555555555556,\"#d8576b\"],[0.6666666666666666,\"#ed7953\"],[0.7777777777777778,\"#fb9f3a\"],[0.8888888888888888,\"#fdca26\"],[1.0,\"#f0f921\"]],\"sequentialminus\":[[0.0,\"#0d0887\"],[0.1111111111111111,\"#46039f\"],[0.2222222222222222,\"#7201a8\"],[0.3333333333333333,\"#9c179e\"],[0.4444444444444444,\"#bd3786\"],[0.5555555555555556,\"#d8576b\"],[0.6666666666666666,\"#ed7953\"],[0.7777777777777778,\"#fb9f3a\"],[0.8888888888888888,\"#fdca26\"],[1.0,\"#f0f921\"]],\"diverging\":[[0,\"#8e0152\"],[0.1,\"#c51b7d\"],[0.2,\"#de77ae\"],[0.3,\"#f1b6da\"],[0.4,\"#fde0ef\"],[0.5,\"#f7f7f7\"],[0.6,\"#e6f5d0\"],[0.7,\"#b8e186\"],[0.8,\"#7fbc41\"],[0.9,\"#4d9221\"],[1,\"#276419\"]]},\"xaxis\":{\"gridcolor\":\"white\",\"linecolor\":\"white\",\"ticks\":\"\",\"title\":{\"standoff\":15},\"zerolinecolor\":\"white\",\"automargin\":true,\"zerolinewidth\":2},\"yaxis\":{\"gridcolor\":\"white\",\"linecolor\":\"white\",\"ticks\":\"\",\"title\":{\"standoff\":15},\"zerolinecolor\":\"white\",\"automargin\":true,\"zerolinewidth\":2},\"scene\":{\"xaxis\":{\"backgroundcolor\":\"#E5ECF6\",\"gridcolor\":\"white\",\"linecolor\":\"white\",\"showbackground\":true,\"ticks\":\"\",\"zerolinecolor\":\"white\",\"gridwidth\":2},\"yaxis\":{\"backgroundcolor\":\"#E5ECF6\",\"gridcolor\":\"white\",\"linecolor\":\"white\",\"showbackground\":true,\"ticks\":\"\",\"zerolinecolor\":\"white\",\"gridwidth\":2},\"zaxis\":{\"backgroundcolor\":\"#E5ECF6\",\"gridcolor\":\"white\",\"linecolor\":\"white\",\"showbackground\":true,\"ticks\":\"\",\"zerolinecolor\":\"white\",\"gridwidth\":2}},\"shapedefaults\":{\"line\":{\"color\":\"#2a3f5f\"}},\"annotationdefaults\":{\"arrowcolor\":\"#2a3f5f\",\"arrowhead\":0,\"arrowwidth\":1},\"geo\":{\"bgcolor\":\"white\",\"landcolor\":\"#E5ECF6\",\"subunitcolor\":\"white\",\"showland\":true,\"showlakes\":true,\"lakecolor\":\"white\"},\"title\":{\"x\":0.05},\"mapbox\":{\"style\":\"light\"}}},\"xaxis\":{\"anchor\":\"y\",\"domain\":[0.0,1.0],\"title\":{\"text\":\"FC_Name\"},\"categoryorder\":\"array\",\"categoryarray\":[\"FC: LONDON, OH\",\"FC: GREENCASTLE, PA\",\"FC: ONTARIO, CA\",\"FC: DALLAS, TX\",\"FC: MONTGOMERY, NY\",\"FC: BELOIT, WI\",\"FC: NEW ORLANDO, FL\",\"FC: STOCKTON, CA\",\"FC: ATLANTA, GA\",\"FC: PUTNAM, CT\",\"FC: CHARLOTTE, NC\",\"FC: KANSAS CITY, MO\",\"FC: PORTLAND, OR\",\"FC: PHOENIX AZ\",\"FC: HOUSTON, TX\",\"FC: LA MIRADA, CA\",\"FC: NEW DENVER, CO\",\"DC SBA: ROCHESTER, NY\",\"FC: IDAHO FALLS, ID\",\"FC: ARDEN HILLS, MN\"]},\"yaxis\":{\"anchor\":\"x\",\"domain\":[0.0,1.0],\"title\":{\"text\":\"Active_Staples_SKU\"}},\"legend\":{\"title\":{\"text\":\"FC_Name\"},\"tracegroupgap\":0},\"margin\":{\"t\":60},\"barmode\":\"relative\",\"plot_bgcolor\":\"rgba(0, 0, 0, 0)\",\"paper_bgcolor\":\"rgba(0, 0, 0, 0)\",\"title\":{\"text\":\"No of Active SKUs at FC level\"}},                        {\"responsive\": true}                    ).then(function(){\n",
       "                            \n",
       "var gd = document.getElementById('e10b8ec6-dbe6-41cf-9049-03e769613ee4');\n",
       "var x = new MutationObserver(function (mutations, observer) {{\n",
       "        var display = window.getComputedStyle(gd).display;\n",
       "        if (!display || display === 'none') {{\n",
       "            console.log([gd, 'removed!']);\n",
       "            Plotly.purge(gd);\n",
       "            observer.disconnect();\n",
       "        }}\n",
       "}});\n",
       "\n",
       "// Listen for the removal of the full notebook cells\n",
       "var notebookContainer = gd.closest('#notebook-container');\n",
       "if (notebookContainer) {{\n",
       "    x.observe(notebookContainer, {childList: true});\n",
       "}}\n",
       "\n",
       "// Listen for the clearing of the current output cell\n",
       "var outputEl = gd.closest('.output');\n",
       "if (outputEl) {{\n",
       "    x.observe(outputEl, {childList: true});\n",
       "}}\n",
       "\n",
       "                        })                };                });            </script>        </div>"
      ]
     },
     "metadata": {},
     "output_type": "display_data"
    }
   ],
   "source": [
    "# Sorting Active SKUs by descending order\n",
    "Active_SKU_FC_01 = Active_SKU_FC_01.sort_values(by = 'Active_Staples_SKU', ascending = False).head(20)\n",
    "# Create the bar chart\n",
    "fig = px.bar(Active_SKU_FC_01, x='FC_Name', y='Active_Staples_SKU', text='Active_Staples_SKU',text_auto='.3s',color='FC_Name')\n",
    "# Add labels inside the bars\n",
    "fig.update_layout(plot_bgcolor='rgba(0, 0, 0, 0)', paper_bgcolor='rgba(0, 0, 0, 0)')\n",
    "\n",
    "# Set the title of the chart\n",
    "fig.update_layout(title_text='No of Active SKUs at FC level')\n",
    "# Set the label color to white\n",
    "\n",
    "# Show the chart\n",
    "fig.show()"
   ]
  },
  {
   "cell_type": "code",
   "execution_count": 17,
   "id": "eb77ec9f",
   "metadata": {},
   "outputs": [
    {
     "name": "stderr",
     "output_type": "stream",
     "text": [
      "C:\\Users\\prapa001\\AppData\\Local\\Temp\\ipykernel_20776\\3523196016.py:19: UserWarning:\n",
      "\n",
      "pandas only supports SQLAlchemy connectable (engine/connection) or database string URI or sqlite3 DBAPI2 connection. Other DBAPI2 objects are not tested. Please consider using SQLAlchemy.\n",
      "\n"
     ]
    }
   ],
   "source": [
    "# P1 to P3 Pick Type level cartons and count of SKU's\n",
    "Pick_Type = '''SELECT  PICK_TYPE, \n",
    "        COUNT(DISTINCT CTN_ID) AS Count_of_Cartons,\n",
    "      --  COUNT(Distinct CASE WHEN pick_type = 'CONVEY BREAKPACK' THEN CTN_ID END) As Total_BP_Cartons, \n",
    "      --  COUNT(Distinct CASE WHEN pick_type = 'FULL CASE' THEN  CTN_ID END) As Total_FC_Cartons, \n",
    "        COUNT(DISTINCT SHPD_SKU) AS Count_of_SKUs        \n",
    "FROM [COST_TO_SERVE_ARCHIVE].[SC_Cost].[Carton_Pick_List_SC_Costs_Archive]  \n",
    "WHERE     STAT_IND <> '99' \n",
    "      AND PICK_CTL_CHAR NOT IN ('#','T') \n",
    "      AND PICK_TYPE NOT IN ('DUMMY WRAP AND LABEL', 'RSI', 'DNR') \n",
    "      AND [Unit_Zero_Valid] IS NULL \n",
    "      AND [Valid_Period_Record] = 'Y' \n",
    "      AND  YEAR IN  ('2023')\n",
    "      AND BU = 'CONTRACT'\n",
    "      AND TimePeriod IN ('1_CTS','2_CTS','3_CTS')\n",
    "      AND FC = '00974'       \n",
    "GROUP BY Pick_TYPE'''\n",
    " # SKU Level DF\n",
    "Pick_Type_01 =  pd.read_sql(Pick_Type,sql_connection)"
   ]
  },
  {
   "cell_type": "code",
   "execution_count": 18,
   "id": "3f895ff6",
   "metadata": {},
   "outputs": [
    {
     "data": {
      "text/html": [
       "<style type=\"text/css\">\n",
       "</style>\n",
       "<table id=\"T_0ace6\">\n",
       "  <thead>\n",
       "    <tr>\n",
       "      <th class=\"blank level0\" >&nbsp;</th>\n",
       "      <th id=\"T_0ace6_level0_col0\" class=\"col_heading level0 col0\" >PICK_TYPE</th>\n",
       "      <th id=\"T_0ace6_level0_col1\" class=\"col_heading level0 col1\" >Count_of_Cartons</th>\n",
       "      <th id=\"T_0ace6_level0_col2\" class=\"col_heading level0 col2\" >Count_of_SKUs</th>\n",
       "    </tr>\n",
       "  </thead>\n",
       "  <tbody>\n",
       "    <tr>\n",
       "      <th id=\"T_0ace6_level0_row0\" class=\"row_heading level0 row0\" >0</th>\n",
       "      <td id=\"T_0ace6_row0_col0\" class=\"data row0 col0\" >CONVEY BREAKPACK</td>\n",
       "      <td id=\"T_0ace6_row0_col1\" class=\"data row0 col1\" >199,940</td>\n",
       "      <td id=\"T_0ace6_row0_col2\" class=\"data row0 col2\" >12,336</td>\n",
       "    </tr>\n",
       "    <tr>\n",
       "      <th id=\"T_0ace6_level0_row1\" class=\"row_heading level0 row1\" >1</th>\n",
       "      <td id=\"T_0ace6_row1_col0\" class=\"data row1 col0\" >FULL CASE</td>\n",
       "      <td id=\"T_0ace6_row1_col1\" class=\"data row1 col1\" >379,286</td>\n",
       "      <td id=\"T_0ace6_row1_col2\" class=\"data row1 col2\" >1,922</td>\n",
       "    </tr>\n",
       "    <tr>\n",
       "      <th id=\"T_0ace6_level0_row2\" class=\"row_heading level0 row2\" >2</th>\n",
       "      <td id=\"T_0ace6_row2_col0\" class=\"data row2 col0\" >NON CONVEY BREAKPACK</td>\n",
       "      <td id=\"T_0ace6_row2_col1\" class=\"data row2 col1\" >68,453</td>\n",
       "      <td id=\"T_0ace6_row2_col2\" class=\"data row2 col2\" >1,041</td>\n",
       "    </tr>\n",
       "    <tr>\n",
       "      <th id=\"T_0ace6_level0_row3\" class=\"row_heading level0 row3\" >3</th>\n",
       "      <td id=\"T_0ace6_row3_col0\" class=\"data row3 col0\" >PICKS FROM RESERVE</td>\n",
       "      <td id=\"T_0ace6_row3_col1\" class=\"data row3 col1\" >28,154</td>\n",
       "      <td id=\"T_0ace6_row3_col2\" class=\"data row3 col2\" >1,654</td>\n",
       "    </tr>\n",
       "    <tr>\n",
       "      <th id=\"T_0ace6_level0_row4\" class=\"row_heading level0 row4\" >4</th>\n",
       "      <td id=\"T_0ace6_row4_col0\" class=\"data row4 col0\" >WRAP AND LABEL</td>\n",
       "      <td id=\"T_0ace6_row4_col1\" class=\"data row4 col1\" >20,880</td>\n",
       "      <td id=\"T_0ace6_row4_col2\" class=\"data row4 col2\" >2</td>\n",
       "    </tr>\n",
       "  </tbody>\n",
       "</table>\n"
      ],
      "text/plain": [
       "<pandas.io.formats.style.Styler at 0x1d768b55600>"
      ]
     },
     "execution_count": 18,
     "metadata": {},
     "output_type": "execute_result"
    }
   ],
   "source": [
    "Pick_Type_01 = Pick_Type_01.style.format({\n",
    "'Count_of_Cartons': '{:,.0f}',\n",
    "'Count_of_SKUs': '{:,.0f}'})\n",
    "# P1 - P3 Pick Type Level Aggregation Summary \n",
    "Pick_Type_01 "
   ]
  },
  {
   "cell_type": "code",
   "execution_count": 22,
   "id": "9e28663b",
   "metadata": {},
   "outputs": [
    {
     "name": "stderr",
     "output_type": "stream",
     "text": [
      "C:\\Users\\prapa001\\AppData\\Local\\Temp\\ipykernel_20776\\3569293954.py:17: UserWarning:\n",
      "\n",
      "pandas only supports SQLAlchemy connectable (engine/connection) or database string URI or sqlite3 DBAPI2 connection. Other DBAPI2 objects are not tested. Please consider using SQLAlchemy.\n",
      "\n"
     ]
    }
   ],
   "source": [
    "FC_SKUs = '''SELECT  shpd_sku, \n",
    "          COUNT(DISTINCT CTN_ID) AS Count_of_Cartons\n",
    "      --  COUNT(DISTINCT CASE WHEN pick_type = 'CONVEY BREAKPACK' THEN CTN_ID END) As Total_BP_Cartons\n",
    "FROM [COST_TO_SERVE_ARCHIVE].[SC_Cost].[Carton_Pick_List_SC_Costs_Archive]  \n",
    "WHERE     STAT_IND <> '99' \n",
    "      AND PICK_CTL_CHAR NOT IN ('#','T') \n",
    "      AND PICK_TYPE NOT IN ('DUMMY WRAP AND LABEL', 'RSI', 'DNR') \n",
    "      AND [Unit_Zero_Valid] IS NULL \n",
    "      AND [Valid_Period_Record] = 'Y' \n",
    "      AND  YEAR IN  ('2023')\n",
    "      AND TimePeriod = '4_CTS'\n",
    "      AND BU = 'CONTRACT'\n",
    "      AND FC = '00974'\n",
    "      AND pick_type = 'FULL CASE'\n",
    "GROUP BY shpd_sku'''\n",
    " # SKU Level DF\n",
    "FC_SKUs_01 =  pd.read_sql(FC_SKUs,sql_connection)"
   ]
  },
  {
   "cell_type": "code",
   "execution_count": 40,
   "id": "4bb356ee",
   "metadata": {},
   "outputs": [
    {
     "ename": "IndentationError",
     "evalue": "unexpected indent (466133701.py, line 54)",
     "output_type": "error",
     "traceback": [
      "\u001b[1;36m  Cell \u001b[1;32mIn[40], line 54\u001b[1;36m\u001b[0m\n\u001b[1;33m    )C ON A.shpd_sku = C.SKU '''\u001b[0m\n\u001b[1;37m    ^\u001b[0m\n\u001b[1;31mIndentationError\u001b[0m\u001b[1;31m:\u001b[0m unexpected indent\n"
     ]
    }
   ],
   "source": [
    "Master_query = '''SELECT A.shpd_sku,\n",
    "       A.Count_of_Cartons,\n",
    "       B.SKU_Dept,\n",
    "       B.SKU_Class,\n",
    "       B.SKU_Dept_Name,\n",
    "       B.SKU_Class_Name, \n",
    "       B.SKU_Description,\n",
    "       B.FC_DIMs_Length,\n",
    "       B.FC_DIMs_Width,\n",
    "       B.FC_DIMs_Height,\n",
    "       B.FC_DIMs_Weight_lbs,\n",
    "       B.FC_DIMs_Volume,\n",
    "       B.SKU_Dept,\n",
    "       C.SKU, \n",
    "       C.FC, \n",
    "       C.Seasonal_4_WK_FCST\n",
    "FROM (SELECT shpd_sku, \n",
    "             COUNT(DISTINCT CTN_ID) AS Count_of_Cartons\n",
    "      -- COUNT(DISTINCT CASE WHEN pick_type = 'CONVEY BREAKPACK' THEN CTN_ID END) AS Total_BP_Cartons\n",
    "      FROM [COST_TO_SERVE_ARCHIVE].[SC_Cost].[Carton_Pick_List_SC_Costs_Archive]  \n",
    "      WHERE STAT_IND <> '99' \n",
    "        AND PICK_CTL_CHAR NOT IN ('#','T') \n",
    "        AND PICK_TYPE NOT IN ('DUMMY WRAP AND LABEL', 'RSI', 'DNR') \n",
    "        AND [Unit_Zero_Valid] IS NULL \n",
    "        AND [Valid_Period_Record] = 'Y' \n",
    "        AND YEAR IN ('2023')\n",
    "        AND BU = 'CONTRACT'\n",
    "        AND TimePeriod IN ('4_CTS')\n",
    "        AND FC = '00974'\n",
    "        AND pick_type = 'FULL CASE'\n",
    "      GROUP BY shpd_sku) A \n",
    "LEFT JOIN (\n",
    "  SELECT DISTINCT SKU_NUM,\n",
    "         SKU_Dept,\n",
    "         SKU_Class,\n",
    "         SKU_Dept_Name,\n",
    "         SKU_Class_Name, \n",
    "         SKU_Description,\n",
    "         FC_DIMs_Length,\n",
    "         FC_DIMs_Width,\n",
    "         FC_DIMs_Height,\n",
    "         FC_DIMs_Weight_lbs,\n",
    "         FC_DIMs_Volume\n",
    "  FROM LINKED.PRISM.MASTER_DETAIL_CURRENT_V\n",
    ") B ON A.shpd_sku = B.SKU_NUM \n",
    "LEFT JOIN (\n",
    "  SELECT * \n",
    "  FROM OPENQUERY(SNWFLK_SC_ANALYTICS_FA,\n",
    "    'SELECT SKU, \n",
    "            FC, \n",
    "            Seasonal_4_WK_FCST \n",
    "     FROM DATALAB_SANDBOX.SCM_REPLEN.NADTRIM\n",
    "     WHERE FC = ''974'' AND RUN_DATE = ''2023-05-02'''\n",
    "  ) C ON A.shpd_sku = C.SKU '''\n",
    " # SKU Level DF \n",
    "Master_query_01 =  pd.read_sql(Master_query,sql_connection)"
   ]
  },
  {
   "cell_type": "code",
   "execution_count": null,
   "id": "c1efdf65",
   "metadata": {
    "scrolled": true
   },
   "outputs": [],
   "source": [
    "Master_file =pd.read_excel('C:\\\\Users\\\\prapa001\\\\OneDrive - Corporate\\\\Documents\\\\SC Strategic Projects\\\\LA - MIRADA CONS\\\\5123_SDOProject\\\\Redo Analysis\\\\Master_file.xlsx')\n",
    "Master_file['2-Week-Forecast'] = Master_file['Seasonal_4_WK_FCST']/2 \n",
    "Master_file"
   ]
  },
  {
   "cell_type": "code",
   "execution_count": null,
   "id": "6e26a6e3",
   "metadata": {},
   "outputs": [],
   "source": [
    "# calculate total usage units\n",
    "total_cartons = Master_file['Count of Cartons'].sum()\n",
    "# Usage Percentage \n",
    "Master_file['usage_percentage'] = (Master_file['Count of Cartons'] / total_cartons) *100\n",
    "# Total Cartons and Cumulative SUM\n",
    "Master_file = Master_file.sort_values(by = 'Count of Cartons',ascending = False)  \n",
    "Master_file['Cumulative_sum'] = Master_file[\"Count of Cartons\"].cumsum()\n",
    "Master_file['cum_perc'] = round(100*Master_file.Cumulative_sum/Master_file[\"Count of Cartons\"].sum(),2)\n",
    "# Considering 85 % Scenario \n",
    "# Assuming your cumulative sum column is named 'cumulative_sum'\n",
    "Per_85_Scenario = Master_file[Master_file['Cumulative_sum'] <= Master_file['Cumulative_sum'].max() * 0.85]\n",
    "# Assuming your dataframe is named 'df' and the column you want to rank is 'column_name'\n",
    "Per_85_Scenario['rank'] = Per_85_Scenario['Count of Cartons'].rank(ascending=False)\n",
    "# Multiple per unit volume cubic to 2 WOS \n",
    "Per_85_Scenario['Total_Space'] = Per_85_Scenario['FC_DIMs_Volume'] * Per_85_Scenario['2-Week-Forecast']"
   ]
  },
  {
   "cell_type": "code",
   "execution_count": 25,
   "id": "fe2a4438",
   "metadata": {},
   "outputs": [
    {
     "data": {
      "text/html": [
       "<div>\n",
       "<style scoped>\n",
       "    .dataframe tbody tr th:only-of-type {\n",
       "        vertical-align: middle;\n",
       "    }\n",
       "\n",
       "    .dataframe tbody tr th {\n",
       "        vertical-align: top;\n",
       "    }\n",
       "\n",
       "    .dataframe thead th {\n",
       "        text-align: right;\n",
       "    }\n",
       "</style>\n",
       "<table border=\"1\" class=\"dataframe\">\n",
       "  <thead>\n",
       "    <tr style=\"text-align: right;\">\n",
       "      <th></th>\n",
       "      <th>Total_Space</th>\n",
       "      <th>2-Week-Forecast</th>\n",
       "    </tr>\n",
       "    <tr>\n",
       "      <th>SHPD SKU</th>\n",
       "      <th></th>\n",
       "      <th></th>\n",
       "    </tr>\n",
       "  </thead>\n",
       "  <tbody>\n",
       "    <tr>\n",
       "      <th>135855</th>\n",
       "      <td>2.251887e+07</td>\n",
       "      <td>108500.000</td>\n",
       "    </tr>\n",
       "    <tr>\n",
       "      <th>24483894</th>\n",
       "      <td>9.201905e+06</td>\n",
       "      <td>49208.050</td>\n",
       "    </tr>\n",
       "    <tr>\n",
       "      <th>24377968</th>\n",
       "      <td>7.552180e+06</td>\n",
       "      <td>6449.695</td>\n",
       "    </tr>\n",
       "    <tr>\n",
       "      <th>24377969</th>\n",
       "      <td>1.356292e+06</td>\n",
       "      <td>1948.275</td>\n",
       "    </tr>\n",
       "    <tr>\n",
       "      <th>571863</th>\n",
       "      <td>2.826838e+06</td>\n",
       "      <td>2114.235</td>\n",
       "    </tr>\n",
       "  </tbody>\n",
       "</table>\n",
       "</div>"
      ],
      "text/plain": [
       "           Total_Space  2-Week-Forecast\n",
       "SHPD SKU                               \n",
       "135855    2.251887e+07       108500.000\n",
       "24483894  9.201905e+06        49208.050\n",
       "24377968  7.552180e+06         6449.695\n",
       "24377969  1.356292e+06         1948.275\n",
       "571863    2.826838e+06         2114.235"
      ]
     },
     "execution_count": 25,
     "metadata": {},
     "output_type": "execute_result"
    }
   ],
   "source": [
    "# Data Prepation for 85 Percent scenario or 233 SKUs \n",
    "Master_File_01 = Per_85_Scenario[[\"SHPD SKU\",\"Total_Space\",\"2-Week-Forecast\"]]\n",
    "Master_File_01.set_index('SHPD SKU', inplace=True)\n",
    "Master_File_01.head()\n",
    "# Standard Scaling for the 233 sku and make shpd sku\n",
    "\n",
    "# Define StandardScaler object\n",
    "scaler = StandardScaler()\n",
    "\n",
    "# Fit the StandardScaler object to the Master_File_01 DataFrame\n",
    "Master_file_02_std_copy = scaler.fit_transform(Master_File_01)\n",
    "\n",
    "# Create a DataFrame from the standardized data\n",
    "Master_file_05_std_copy = pd.DataFrame(Master_file_02_std_copy, columns=Master_File_01.columns, index=Master_File_01.index)\n",
    "\n",
    "# Reset the index of the DataFrame\n",
    "Master_file_05_std_copy = Master_file_05_std_copy.reset_index()\n",
    "\n",
    "# Replacing NAN with Mean \n",
    "Master_file_05_std_copy[['Total_Space','2-Week-Forecast']] = Master_file_05_std_copy[['Total_Space','2-Week-Forecast']].fillna(value = Master_file_05_std_copy[['Total_Space','2-Week-Forecast']].mean())\n",
    "# Performing K-means within 6 Clusters as it 6 clusters was threshold where we saw maximum decline\n",
    "kmeans = KMeans(n_clusters=6, init='k-means++', random_state=42)\n",
    "\n",
    "# Fitting our model to the dataset\n",
    "kmeans.fit(Master_file_05_std_copy)\n",
    "\n",
    "# Adding Cluster labels\n",
    "Master_file_05_std_copy[\"Cluster\"] = kmeans.labels_"
   ]
  },
  {
   "cell_type": "code",
   "execution_count": 54,
   "id": "2e0d7fd0",
   "metadata": {
    "scrolled": true
   },
   "outputs": [
    {
     "name": "stderr",
     "output_type": "stream",
     "text": [
      "C:\\Users\\prapa001\\Anaconda3\\envs\\customer_analytics\\lib\\site-packages\\sklearn\\cluster\\_kmeans.py:870: FutureWarning:\n",
      "\n",
      "The default value of `n_init` will change from 10 to 'auto' in 1.4. Set the value of `n_init` explicitly to suppress the warning\n",
      "\n"
     ]
    }
   ],
   "source": [
    "# CLustering model for all the 1922 Full Case SKUs\n",
    "# Total Space calculation \n",
    "Master_file['Total_Space'] = Master_file['FC_DIMs_Volume'] * Master_file['2-Week-Forecast']\n",
    "\n",
    "# Data Prepation for 85 Percent scenario or 233 SKUs \n",
    "Master_File_03 = Master_file[[\"SHPD SKU\",\"Total_Space\",\"2-Week-Forecast\"]]\n",
    "Master_File_03.set_index('SHPD SKU', inplace=True)\n",
    "Master_File_03.head()\n",
    "# Standard Scaling for the 1922 sku and make shpd sku\n",
    "\n",
    "# Define StandardScaler object\n",
    "scaler = StandardScaler()\n",
    "\n",
    "# Fit the StandardScaler object to the Master_File_01 DataFrame\n",
    "MF_07_std_copy = scaler.fit_transform(Master_File_03)\n",
    "\n",
    "# Create a DataFrame from the standardized data\n",
    "MF_06_std_copy = pd.DataFrame(MF_07_std_copy, columns=Master_File_03.columns, index=Master_File_03.index)\n",
    "\n",
    "# Reset the index of the DataFrame\n",
    "MF_06_std_copy = MF_06_std_copy.reset_index()\n",
    "\n",
    "# Replacing NAN with Mean \n",
    "MF_06_std_copy[['Total_Space','2-Week-Forecast']] = MF_06_std_copy[['Total_Space','2-Week-Forecast']].fillna(value = MF_06_std_copy[['Total_Space','2-Week-Forecast']].mean())\n",
    "# Performing K-means within 6 Clusters as it 6 clusters was threshold where we saw maximum decline\n",
    "kmeans = KMeans(n_clusters=6, init='k-means++', random_state=42)\n",
    "\n",
    "# Fitting our model to the dataset\n",
    "kmeans.fit(MF_06_std_copy)\n",
    "\n",
    "# Adding Cluster labels\n",
    "MF_06_std_copy[\"Cluster\"] = kmeans.labels_\n"
   ]
  },
  {
   "cell_type": "code",
   "execution_count": 58,
   "id": "52c0b937",
   "metadata": {},
   "outputs": [],
   "source": [
    "MF_06_std_copy\n",
    "\n",
    "Master_file_05_std_copy\n",
    "# Join the original df to scaled df to tie up the cluster associated with each SKU\n",
    "MF_2k_SKUs = Master_file.merge(MF_06_std_copy, on='SHPD SKU', how='left', indicator=True)\n",
    "# Move this file to excel \n",
    "# Transfer the SKU level file to excel\n",
    "with pd.ExcelWriter('C:\\\\Users\\\\prapa001\\\\OneDrive - Corporate\\\\Documents\\\\SC Strategic Projects\\\\LA - MIRADA CONS\\\\5123_SDOProject\\\\Stra_cluster_2K_SKUs.xlsx') as writer : \n",
    "    MF_2k_SKUs.to_excel(writer, index=False)"
   ]
  },
  {
   "cell_type": "code",
   "execution_count": 40,
   "id": "4e0104e4",
   "metadata": {},
   "outputs": [
    {
     "data": {
      "text/html": [
       "<div>\n",
       "<style scoped>\n",
       "    .dataframe tbody tr th:only-of-type {\n",
       "        vertical-align: middle;\n",
       "    }\n",
       "\n",
       "    .dataframe tbody tr th {\n",
       "        vertical-align: top;\n",
       "    }\n",
       "\n",
       "    .dataframe thead th {\n",
       "        text-align: right;\n",
       "    }\n",
       "</style>\n",
       "<table border=\"1\" class=\"dataframe\">\n",
       "  <thead>\n",
       "    <tr style=\"text-align: right;\">\n",
       "      <th></th>\n",
       "      <th>SHPD SKU</th>\n",
       "      <th>Total_Space_x</th>\n",
       "      <th>2-Week-Forecast_x</th>\n",
       "      <th>Total_Space_y</th>\n",
       "      <th>2-Week-Forecast_y</th>\n",
       "      <th>Cluster</th>\n",
       "      <th>_merge</th>\n",
       "    </tr>\n",
       "  </thead>\n",
       "  <tbody>\n",
       "    <tr>\n",
       "      <th>0</th>\n",
       "      <td>135855</td>\n",
       "      <td>2.251887e+07</td>\n",
       "      <td>108500.000</td>\n",
       "      <td>12.594502</td>\n",
       "      <td>13.441896</td>\n",
       "      <td>5</td>\n",
       "      <td>both</td>\n",
       "    </tr>\n",
       "    <tr>\n",
       "      <th>1</th>\n",
       "      <td>24483894</td>\n",
       "      <td>9.201905e+06</td>\n",
       "      <td>49208.050</td>\n",
       "      <td>4.949082</td>\n",
       "      <td>6.006224</td>\n",
       "      <td>0</td>\n",
       "      <td>both</td>\n",
       "    </tr>\n",
       "    <tr>\n",
       "      <th>2</th>\n",
       "      <td>24377968</td>\n",
       "      <td>7.552180e+06</td>\n",
       "      <td>6449.695</td>\n",
       "      <td>4.001956</td>\n",
       "      <td>0.643993</td>\n",
       "      <td>0</td>\n",
       "      <td>both</td>\n",
       "    </tr>\n",
       "    <tr>\n",
       "      <th>3</th>\n",
       "      <td>24377969</td>\n",
       "      <td>1.356292e+06</td>\n",
       "      <td>1948.275</td>\n",
       "      <td>0.444827</td>\n",
       "      <td>0.079479</td>\n",
       "      <td>0</td>\n",
       "      <td>both</td>\n",
       "    </tr>\n",
       "    <tr>\n",
       "      <th>4</th>\n",
       "      <td>571863</td>\n",
       "      <td>2.826838e+06</td>\n",
       "      <td>2114.235</td>\n",
       "      <td>1.289084</td>\n",
       "      <td>0.100292</td>\n",
       "      <td>1</td>\n",
       "      <td>both</td>\n",
       "    </tr>\n",
       "    <tr>\n",
       "      <th>...</th>\n",
       "      <td>...</td>\n",
       "      <td>...</td>\n",
       "      <td>...</td>\n",
       "      <td>...</td>\n",
       "      <td>...</td>\n",
       "      <td>...</td>\n",
       "      <td>...</td>\n",
       "    </tr>\n",
       "    <tr>\n",
       "      <th>228</th>\n",
       "      <td>665223</td>\n",
       "      <td>5.915520e+04</td>\n",
       "      <td>39.500</td>\n",
       "      <td>-0.299874</td>\n",
       "      <td>-0.159896</td>\n",
       "      <td>1</td>\n",
       "      <td>both</td>\n",
       "    </tr>\n",
       "    <tr>\n",
       "      <th>229</th>\n",
       "      <td>2831689</td>\n",
       "      <td>5.216087e+04</td>\n",
       "      <td>36.255</td>\n",
       "      <td>-0.303889</td>\n",
       "      <td>-0.160303</td>\n",
       "      <td>4</td>\n",
       "      <td>both</td>\n",
       "    </tr>\n",
       "    <tr>\n",
       "      <th>230</th>\n",
       "      <td>934100</td>\n",
       "      <td>3.236659e+05</td>\n",
       "      <td>46.280</td>\n",
       "      <td>-0.148015</td>\n",
       "      <td>-0.159046</td>\n",
       "      <td>3</td>\n",
       "      <td>both</td>\n",
       "    </tr>\n",
       "    <tr>\n",
       "      <th>231</th>\n",
       "      <td>24398921</td>\n",
       "      <td>9.409321e+05</td>\n",
       "      <td>83.315</td>\n",
       "      <td>0.206365</td>\n",
       "      <td>-0.154401</td>\n",
       "      <td>0</td>\n",
       "      <td>both</td>\n",
       "    </tr>\n",
       "    <tr>\n",
       "      <th>232</th>\n",
       "      <td>82656</td>\n",
       "      <td>8.535815e+04</td>\n",
       "      <td>434.260</td>\n",
       "      <td>-0.284830</td>\n",
       "      <td>-0.110390</td>\n",
       "      <td>5</td>\n",
       "      <td>both</td>\n",
       "    </tr>\n",
       "  </tbody>\n",
       "</table>\n",
       "<p>233 rows × 7 columns</p>\n",
       "</div>"
      ],
      "text/plain": [
       "     SHPD SKU  Total_Space_x  2-Week-Forecast_x  Total_Space_y   \n",
       "0      135855   2.251887e+07         108500.000      12.594502  \\\n",
       "1    24483894   9.201905e+06          49208.050       4.949082   \n",
       "2    24377968   7.552180e+06           6449.695       4.001956   \n",
       "3    24377969   1.356292e+06           1948.275       0.444827   \n",
       "4      571863   2.826838e+06           2114.235       1.289084   \n",
       "..        ...            ...                ...            ...   \n",
       "228    665223   5.915520e+04             39.500      -0.299874   \n",
       "229   2831689   5.216087e+04             36.255      -0.303889   \n",
       "230    934100   3.236659e+05             46.280      -0.148015   \n",
       "231  24398921   9.409321e+05             83.315       0.206365   \n",
       "232     82656   8.535815e+04            434.260      -0.284830   \n",
       "\n",
       "     2-Week-Forecast_y  Cluster _merge  \n",
       "0            13.441896        5   both  \n",
       "1             6.006224        0   both  \n",
       "2             0.643993        0   both  \n",
       "3             0.079479        0   both  \n",
       "4             0.100292        1   both  \n",
       "..                 ...      ...    ...  \n",
       "228          -0.159896        1   both  \n",
       "229          -0.160303        4   both  \n",
       "230          -0.159046        3   both  \n",
       "231          -0.154401        0   both  \n",
       "232          -0.110390        5   both  \n",
       "\n",
       "[233 rows x 7 columns]"
      ]
     },
     "execution_count": 40,
     "metadata": {},
     "output_type": "execute_result"
    }
   ],
   "source": [
    "Master_file_05_std_copy\n",
    "# Join the original df to scaled df to tie up the cluster associated with each SKU\n",
    "Master_file_05 = Master_File_01.merge(Master_file_05_std_copy, on='SHPD SKU', how='left', indicator=True)\n",
    "Master_file_05"
   ]
  },
  {
   "cell_type": "code",
   "execution_count": 47,
   "id": "12ceb0dc",
   "metadata": {
    "scrolled": true
   },
   "outputs": [
    {
     "data": {
      "text/html": [
       "<div>\n",
       "<style scoped>\n",
       "    .dataframe tbody tr th:only-of-type {\n",
       "        vertical-align: middle;\n",
       "    }\n",
       "\n",
       "    .dataframe tbody tr th {\n",
       "        vertical-align: top;\n",
       "    }\n",
       "\n",
       "    .dataframe thead th {\n",
       "        text-align: right;\n",
       "    }\n",
       "</style>\n",
       "<table border=\"1\" class=\"dataframe\">\n",
       "  <thead>\n",
       "    <tr style=\"text-align: right;\">\n",
       "      <th></th>\n",
       "      <th>Cluster_</th>\n",
       "      <th>SHPD SKU_count</th>\n",
       "      <th>Total_Space_x_sum</th>\n",
       "      <th>2-Week-Forecast_x_sum</th>\n",
       "      <th>Usage %</th>\n",
       "      <th>Volume %</th>\n",
       "    </tr>\n",
       "  </thead>\n",
       "  <tbody>\n",
       "    <tr>\n",
       "      <th>0</th>\n",
       "      <td>0</td>\n",
       "      <td>34</td>\n",
       "      <td>2.648062e+07</td>\n",
       "      <td>69015.405</td>\n",
       "      <td>22.73%</td>\n",
       "      <td>19.71%</td>\n",
       "    </tr>\n",
       "    <tr>\n",
       "      <th>1</th>\n",
       "      <td>1</td>\n",
       "      <td>77</td>\n",
       "      <td>4.763448e+07</td>\n",
       "      <td>68789.760</td>\n",
       "      <td>22.65%</td>\n",
       "      <td>35.46%</td>\n",
       "    </tr>\n",
       "    <tr>\n",
       "      <th>2</th>\n",
       "      <td>2</td>\n",
       "      <td>9</td>\n",
       "      <td>2.538825e+06</td>\n",
       "      <td>1028.080</td>\n",
       "      <td>0.34%</td>\n",
       "      <td>1.89%</td>\n",
       "    </tr>\n",
       "    <tr>\n",
       "      <th>3</th>\n",
       "      <td>3</td>\n",
       "      <td>76</td>\n",
       "      <td>2.077429e+07</td>\n",
       "      <td>28323.705</td>\n",
       "      <td>9.33%</td>\n",
       "      <td>15.47%</td>\n",
       "    </tr>\n",
       "    <tr>\n",
       "      <th>4</th>\n",
       "      <td>4</td>\n",
       "      <td>15</td>\n",
       "      <td>3.194153e+06</td>\n",
       "      <td>1931.045</td>\n",
       "      <td>0.64%</td>\n",
       "      <td>2.38%</td>\n",
       "    </tr>\n",
       "    <tr>\n",
       "      <th>5</th>\n",
       "      <td>5</td>\n",
       "      <td>22</td>\n",
       "      <td>3.369991e+07</td>\n",
       "      <td>134563.080</td>\n",
       "      <td>44.32%</td>\n",
       "      <td>25.09%</td>\n",
       "    </tr>\n",
       "  </tbody>\n",
       "</table>\n",
       "</div>"
      ],
      "text/plain": [
       "   Cluster_  SHPD SKU_count  Total_Space_x_sum  2-Week-Forecast_x_sum Usage %   \n",
       "0         0              34       2.648062e+07              69015.405  22.73%  \\\n",
       "1         1              77       4.763448e+07              68789.760  22.65%   \n",
       "2         2               9       2.538825e+06               1028.080   0.34%   \n",
       "3         3              76       2.077429e+07              28323.705   9.33%   \n",
       "4         4              15       3.194153e+06               1931.045   0.64%   \n",
       "5         5              22       3.369991e+07             134563.080  44.32%   \n",
       "\n",
       "  Volume %  \n",
       "0   19.71%  \n",
       "1   35.46%  \n",
       "2    1.89%  \n",
       "3   15.47%  \n",
       "4    2.38%  \n",
       "5   25.09%  "
      ]
     },
     "execution_count": 47,
     "metadata": {},
     "output_type": "execute_result"
    }
   ],
   "source": [
    "# Count the number of SKUs at cluster level\n",
    "Cluster_groupby = Master_file_05.groupby(['Cluster']).agg({\n",
    "    'SHPD SKU': ['count'],\n",
    "    'Total_Space_x': ['sum'],\n",
    "    '2-Week-Forecast_x': ['sum']\n",
    "}).reset_index()\n",
    "\n",
    "# Reset the column index\n",
    "Cluster_groupby.columns = Cluster_groupby.columns.get_level_values(0) + '_' + Cluster_groupby.columns.get_level_values(1)\n",
    "\n",
    "# Calculate Usage % and Volume %\n",
    "SKU_Usage_sum = Cluster_groupby['2-Week-Forecast_x_sum'].sum()\n",
    "SKU_Volume = Cluster_groupby['Total_Space_x_sum'].sum()\n",
    "Cluster_groupby['Usage %'] = (Cluster_groupby['2-Week-Forecast_x_sum'] / SKU_Usage_sum) * 100\n",
    "Cluster_groupby['Volume %'] = (Cluster_groupby['Total_Space_x_sum'] / SKU_Volume) * 100\n",
    "\n",
    "# Format the DataFrame\n",
    "Cluster_groupby_formatted = Cluster_groupby.copy()\n",
    "\n",
    "# Apply desired formatting to the columns\n",
    "Cluster_groupby_formatted['Usage %'] = Cluster_groupby_formatted['Usage %'].map('{:.2f}%'.format)\n",
    "Cluster_groupby_formatted['Volume %'] = Cluster_groupby_formatted['Volume %'].map('{:.2f}%'.format)\n",
    "\n",
    "# Print the formatted DataFrame\n",
    "Cluster_groupby_formatted"
   ]
  },
  {
   "cell_type": "code",
   "execution_count": 45,
   "id": "578e31c0",
   "metadata": {},
   "outputs": [],
   "source": [
    "# Transfer the SKU level file to excel\n",
    "with pd.ExcelWriter('C:\\\\Users\\\\prapa001\\\\OneDrive - Corporate\\\\Documents\\\\SC Strategic Projects\\\\LA - MIRADA CONS\\\\5123_SDOProject\\\\Stra_cluster_method_85_sample_8_Clusters.xlsx') as writer : \n",
    "    Master_file_05.to_excel(writer, index=False)"
   ]
  },
  {
   "cell_type": "code",
   "execution_count": 46,
   "id": "797868e5",
   "metadata": {},
   "outputs": [
    {
     "data": {
      "text/html": [
       "<div>\n",
       "<style scoped>\n",
       "    .dataframe tbody tr th:only-of-type {\n",
       "        vertical-align: middle;\n",
       "    }\n",
       "\n",
       "    .dataframe tbody tr th {\n",
       "        vertical-align: top;\n",
       "    }\n",
       "\n",
       "    .dataframe thead th {\n",
       "        text-align: right;\n",
       "    }\n",
       "</style>\n",
       "<table border=\"1\" class=\"dataframe\">\n",
       "  <thead>\n",
       "    <tr style=\"text-align: right;\">\n",
       "      <th></th>\n",
       "      <th>Cluster_</th>\n",
       "      <th>SHPD SKU_count</th>\n",
       "      <th>Total_Space_x_sum</th>\n",
       "      <th>2-Week-Forecast_x_sum</th>\n",
       "    </tr>\n",
       "  </thead>\n",
       "  <tbody>\n",
       "    <tr>\n",
       "      <th>0</th>\n",
       "      <td>0</td>\n",
       "      <td>34</td>\n",
       "      <td>2.648062e+07</td>\n",
       "      <td>69015.405</td>\n",
       "    </tr>\n",
       "    <tr>\n",
       "      <th>1</th>\n",
       "      <td>1</td>\n",
       "      <td>77</td>\n",
       "      <td>4.763448e+07</td>\n",
       "      <td>68789.760</td>\n",
       "    </tr>\n",
       "    <tr>\n",
       "      <th>2</th>\n",
       "      <td>2</td>\n",
       "      <td>9</td>\n",
       "      <td>2.538825e+06</td>\n",
       "      <td>1028.080</td>\n",
       "    </tr>\n",
       "    <tr>\n",
       "      <th>3</th>\n",
       "      <td>3</td>\n",
       "      <td>76</td>\n",
       "      <td>2.077429e+07</td>\n",
       "      <td>28323.705</td>\n",
       "    </tr>\n",
       "    <tr>\n",
       "      <th>4</th>\n",
       "      <td>4</td>\n",
       "      <td>15</td>\n",
       "      <td>3.194153e+06</td>\n",
       "      <td>1931.045</td>\n",
       "    </tr>\n",
       "    <tr>\n",
       "      <th>5</th>\n",
       "      <td>5</td>\n",
       "      <td>22</td>\n",
       "      <td>3.369991e+07</td>\n",
       "      <td>134563.080</td>\n",
       "    </tr>\n",
       "  </tbody>\n",
       "</table>\n",
       "</div>"
      ],
      "text/plain": [
       "   Cluster_  SHPD SKU_count  Total_Space_x_sum  2-Week-Forecast_x_sum\n",
       "0         0              34       2.648062e+07              69015.405\n",
       "1         1              77       4.763448e+07              68789.760\n",
       "2         2               9       2.538825e+06               1028.080\n",
       "3         3              76       2.077429e+07              28323.705\n",
       "4         4              15       3.194153e+06               1931.045\n",
       "5         5              22       3.369991e+07             134563.080"
      ]
     },
     "execution_count": 46,
     "metadata": {},
     "output_type": "execute_result"
    }
   ],
   "source": [
    "Cluster_groupby "
   ]
  }
 ],
 "metadata": {
  "kernelspec": {
   "display_name": "customer_analytics",
   "language": "python",
   "name": "customer_analytics"
  },
  "language_info": {
   "codemirror_mode": {
    "name": "ipython",
    "version": 3
   },
   "file_extension": ".py",
   "mimetype": "text/x-python",
   "name": "python",
   "nbconvert_exporter": "python",
   "pygments_lexer": "ipython3",
   "version": "3.10.10"
  }
 },
 "nbformat": 4,
 "nbformat_minor": 5
}
